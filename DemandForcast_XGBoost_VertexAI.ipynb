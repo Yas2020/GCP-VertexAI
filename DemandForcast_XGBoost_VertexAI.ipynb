{
  "nbformat": 4,
  "nbformat_minor": 0,
  "metadata": {
    "colab": {
      "name": "DemandForcast-XGBoost-VertexAI.ipynb",
      "provenance": [],
      "collapsed_sections": [],
      "include_colab_link": true
    },
    "kernelspec": {
      "display_name": "Python 3",
      "name": "python3"
    }
  },
  "cells": [
    {
      "cell_type": "markdown",
      "metadata": {
        "id": "view-in-github",
        "colab_type": "text"
      },
      "source": [
        "<a href=\"https://colab.research.google.com/github/Yas2020/GCP-VertexAI/blob/main/DemandForcast_XGBoost_VertexAI.ipynb\" target=\"_parent\"><img src=\"https://colab.research.google.com/assets/colab-badge.svg\" alt=\"Open In Colab\"/></a>"
      ]
    },
    {
      "cell_type": "markdown",
      "metadata": {
        "id": "eHLV0D7Y5jtU"
      },
      "source": [
        "# Training a XgBoost model with a `CustomJob` on VertexAI\n"
      ]
    },
    {
      "cell_type": "markdown",
      "metadata": {
        "id": "tvgnzT1CKxrO"
      },
      "source": [
        "# Overview: Creating custom training jobs on Vertex AI.\n",
        "\n",
        "We use Vertex AI Python client library to train and deploy a custom regression model for demand forcasting and do a prediction.\n",
        "\n",
        "### Dataset\n",
        "\n",
        "The dataset used here is [sale-prediction dataset](https://www.kaggle.com/c/competitive-data-science-predict-future-sales) from Kaggle. I enjoyed exploring it, tried different ideas for modeling and learned a lot tackling the challenges it bring on. A regression xgboost model is trained to predicts sales at item-store level for a retailer for Nov, 2015 given the historical sale records from Jan, 2013 to Oct, 2015. Having extra memory from Large Machines on GCP allows more flexibilty for exploring. Given that the raw data has about 2.9M records which grows to about 11.9M rows after preparation as a time series, I decided to use Google Cloud resources for this project.   \n",
        "\n",
        "### Objective\n",
        "\n",
        "In this notebook, we build a custom model that requires a python package and then uses a pre-built Docker container from AI Platform on GCP. Using the AI Platform Python client library, we can also do a prediction on the deployed model if we want to. \n",
        "\n",
        "The steps performed include: \n",
        "- Create an AI Platform `CustomJob` resource for training a model.\n",
        "- Train the model.\n",
        "- Retrieve and load the model (artifacts).\n",
        "- View the model evaluation and performance on test data.\n",
        "\n"
      ]
    },
    {
      "cell_type": "markdown",
      "metadata": {
        "id": "i7EUnXsZhAGF"
      },
      "source": [
        "## Installation\n",
        "\n",
        "Install the latest (preview) version of AI Platform Python client library."
      ]
    },
    {
      "cell_type": "code",
      "metadata": {
        "id": "wyy5Lbnzg5fi",
        "colab": {
          "base_uri": "https://localhost:8080/",
          "height": 769
        },
        "outputId": "9eb31b90-dd3a-48f9-a19f-37dee616bb8c"
      },
      "source": [
        "! pip3 install -U google-cloud-aiplatform"
      ],
      "execution_count": null,
      "outputs": [
        {
          "output_type": "stream",
          "text": [
            "Collecting google-cloud-aiplatform\n",
            "\u001b[?25l  Downloading https://files.pythonhosted.org/packages/ec/41/b821a5a69c0ff84061375e0af782708c87b55a7378ce2e55a41c8cfe86e3/google_cloud_aiplatform-1.0.1-py2.py3-none-any.whl (1.8MB)\n",
            "\u001b[K     |████████████████████████████████| 1.9MB 6.9MB/s \n",
            "\u001b[?25hRequirement already satisfied, skipping upgrade: google-api-core[grpc]<2.0.0dev,>=1.22.2 in /usr/local/lib/python3.7/dist-packages (from google-cloud-aiplatform) (1.26.3)\n",
            "Requirement already satisfied, skipping upgrade: google-cloud-bigquery<3.0.0dev,>=1.15.0 in /usr/local/lib/python3.7/dist-packages (from google-cloud-aiplatform) (1.21.0)\n",
            "Collecting proto-plus>=1.10.1\n",
            "\u001b[?25l  Downloading https://files.pythonhosted.org/packages/b4/8a/61c5a9b9b6288f9b060b6e3d88374fc083953a29aeac7206616c2d3c9c8e/proto_plus-1.18.1-py3-none-any.whl (42kB)\n",
            "\u001b[K     |████████████████████████████████| 51kB 6.0MB/s \n",
            "\u001b[?25hCollecting google-cloud-storage<2.0.0dev,>=1.32.0\n",
            "\u001b[?25l  Downloading https://files.pythonhosted.org/packages/12/75/78ed0d1ef691592b94e7a3d9f58153298166486342a97df82d3c5b66cc16/google_cloud_storage-1.38.0-py2.py3-none-any.whl (103kB)\n",
            "\u001b[K     |████████████████████████████████| 112kB 23.8MB/s \n",
            "\u001b[?25hRequirement already satisfied, skipping upgrade: packaging>=14.3 in /usr/local/lib/python3.7/dist-packages (from google-cloud-aiplatform) (20.9)\n",
            "Requirement already satisfied, skipping upgrade: pytz in /usr/local/lib/python3.7/dist-packages (from google-api-core[grpc]<2.0.0dev,>=1.22.2->google-cloud-aiplatform) (2018.9)\n",
            "Requirement already satisfied, skipping upgrade: google-auth<2.0dev,>=1.21.1 in /usr/local/lib/python3.7/dist-packages (from google-api-core[grpc]<2.0.0dev,>=1.22.2->google-cloud-aiplatform) (1.30.0)\n",
            "Requirement already satisfied, skipping upgrade: protobuf>=3.12.0 in /usr/local/lib/python3.7/dist-packages (from google-api-core[grpc]<2.0.0dev,>=1.22.2->google-cloud-aiplatform) (3.12.4)\n",
            "Requirement already satisfied, skipping upgrade: requests<3.0.0dev,>=2.18.0 in /usr/local/lib/python3.7/dist-packages (from google-api-core[grpc]<2.0.0dev,>=1.22.2->google-cloud-aiplatform) (2.23.0)\n",
            "Requirement already satisfied, skipping upgrade: setuptools>=40.3.0 in /usr/local/lib/python3.7/dist-packages (from google-api-core[grpc]<2.0.0dev,>=1.22.2->google-cloud-aiplatform) (57.0.0)\n",
            "Requirement already satisfied, skipping upgrade: googleapis-common-protos<2.0dev,>=1.6.0 in /usr/local/lib/python3.7/dist-packages (from google-api-core[grpc]<2.0.0dev,>=1.22.2->google-cloud-aiplatform) (1.53.0)\n",
            "Requirement already satisfied, skipping upgrade: six>=1.13.0 in /usr/local/lib/python3.7/dist-packages (from google-api-core[grpc]<2.0.0dev,>=1.22.2->google-cloud-aiplatform) (1.15.0)\n",
            "Requirement already satisfied, skipping upgrade: grpcio<2.0dev,>=1.29.0; extra == \"grpc\" in /usr/local/lib/python3.7/dist-packages (from google-api-core[grpc]<2.0.0dev,>=1.22.2->google-cloud-aiplatform) (1.34.1)\n",
            "Requirement already satisfied, skipping upgrade: google-cloud-core<2.0dev,>=1.0.3 in /usr/local/lib/python3.7/dist-packages (from google-cloud-bigquery<3.0.0dev,>=1.15.0->google-cloud-aiplatform) (1.0.3)\n",
            "Requirement already satisfied, skipping upgrade: google-resumable-media!=0.4.0,<0.5.0dev,>=0.3.1 in /usr/local/lib/python3.7/dist-packages (from google-cloud-bigquery<3.0.0dev,>=1.15.0->google-cloud-aiplatform) (0.4.1)\n",
            "Requirement already satisfied, skipping upgrade: pyparsing>=2.0.2 in /usr/local/lib/python3.7/dist-packages (from packaging>=14.3->google-cloud-aiplatform) (2.4.7)\n",
            "Requirement already satisfied, skipping upgrade: pyasn1-modules>=0.2.1 in /usr/local/lib/python3.7/dist-packages (from google-auth<2.0dev,>=1.21.1->google-api-core[grpc]<2.0.0dev,>=1.22.2->google-cloud-aiplatform) (0.2.8)\n",
            "Requirement already satisfied, skipping upgrade: cachetools<5.0,>=2.0.0 in /usr/local/lib/python3.7/dist-packages (from google-auth<2.0dev,>=1.21.1->google-api-core[grpc]<2.0.0dev,>=1.22.2->google-cloud-aiplatform) (4.2.2)\n",
            "Requirement already satisfied, skipping upgrade: rsa<5,>=3.1.4; python_version >= \"3.6\" in /usr/local/lib/python3.7/dist-packages (from google-auth<2.0dev,>=1.21.1->google-api-core[grpc]<2.0.0dev,>=1.22.2->google-cloud-aiplatform) (4.7.2)\n",
            "Requirement already satisfied, skipping upgrade: idna<3,>=2.5 in /usr/local/lib/python3.7/dist-packages (from requests<3.0.0dev,>=2.18.0->google-api-core[grpc]<2.0.0dev,>=1.22.2->google-cloud-aiplatform) (2.10)\n",
            "Requirement already satisfied, skipping upgrade: urllib3!=1.25.0,!=1.25.1,<1.26,>=1.21.1 in /usr/local/lib/python3.7/dist-packages (from requests<3.0.0dev,>=2.18.0->google-api-core[grpc]<2.0.0dev,>=1.22.2->google-cloud-aiplatform) (1.24.3)\n",
            "Requirement already satisfied, skipping upgrade: chardet<4,>=3.0.2 in /usr/local/lib/python3.7/dist-packages (from requests<3.0.0dev,>=2.18.0->google-api-core[grpc]<2.0.0dev,>=1.22.2->google-cloud-aiplatform) (3.0.4)\n",
            "Requirement already satisfied, skipping upgrade: certifi>=2017.4.17 in /usr/local/lib/python3.7/dist-packages (from requests<3.0.0dev,>=2.18.0->google-api-core[grpc]<2.0.0dev,>=1.22.2->google-cloud-aiplatform) (2020.12.5)\n",
            "Requirement already satisfied, skipping upgrade: pyasn1<0.5.0,>=0.4.6 in /usr/local/lib/python3.7/dist-packages (from pyasn1-modules>=0.2.1->google-auth<2.0dev,>=1.21.1->google-api-core[grpc]<2.0.0dev,>=1.22.2->google-cloud-aiplatform) (0.4.8)\n",
            "\u001b[31mERROR: google-cloud-storage 1.38.0 has requirement google-cloud-core<2.0dev,>=1.4.1, but you'll have google-cloud-core 1.0.3 which is incompatible.\u001b[0m\n",
            "\u001b[31mERROR: google-cloud-storage 1.38.0 has requirement google-resumable-media<2.0dev,>=1.2.0, but you'll have google-resumable-media 0.4.1 which is incompatible.\u001b[0m\n",
            "Installing collected packages: proto-plus, google-cloud-storage, google-cloud-aiplatform\n",
            "  Found existing installation: google-cloud-storage 1.18.1\n",
            "    Uninstalling google-cloud-storage-1.18.1:\n",
            "      Successfully uninstalled google-cloud-storage-1.18.1\n",
            "Successfully installed google-cloud-aiplatform-1.0.1 google-cloud-storage-1.38.0 proto-plus-1.18.1\n"
          ],
          "name": "stdout"
        },
        {
          "output_type": "display_data",
          "data": {
            "application/vnd.colab-display-data+json": {
              "pip_warning": {
                "packages": [
                  "google"
                ]
              }
            }
          },
          "metadata": {
            "tags": []
          }
        }
      ]
    },
    {
      "cell_type": "markdown",
      "metadata": {
        "id": "CuffNSK2Sgh8"
      },
      "source": [
        "Install the Google `cloud-storage` library as well."
      ]
    },
    {
      "cell_type": "code",
      "metadata": {
        "id": "PXvWYrX-Sgh8",
        "colab": {
          "base_uri": "https://localhost:8080/",
          "height": 752
        },
        "outputId": "633d8dac-9b40-4ec7-b913-828ba9872be3"
      },
      "source": [
        "! pip3 install google-cloud-storage"
      ],
      "execution_count": null,
      "outputs": [
        {
          "output_type": "stream",
          "text": [
            "Requirement already satisfied: google-cloud-storage in /usr/local/lib/python3.7/dist-packages (1.38.0)\n",
            "Collecting google-resumable-media<2.0dev,>=1.2.0\n",
            "\u001b[?25l  Downloading https://files.pythonhosted.org/packages/f9/ad/bc80b0b33ccb5e21375ca1440da9dab99596948d5035e2f597fdcffb31f1/google_resumable_media-1.3.0-py2.py3-none-any.whl (75kB)\n",
            "\u001b[K     |████████████████████████████████| 81kB 3.8MB/s \n",
            "\u001b[?25hRequirement already satisfied: google-auth<2.0dev,>=1.11.0 in /usr/local/lib/python3.7/dist-packages (from google-cloud-storage) (1.30.0)\n",
            "Requirement already satisfied: requests<3.0.0dev,>=2.18.0 in /usr/local/lib/python3.7/dist-packages (from google-cloud-storage) (2.23.0)\n",
            "Collecting google-cloud-core<2.0dev,>=1.4.1\n",
            "  Downloading https://files.pythonhosted.org/packages/ad/fc/6e8c449185cb8862af353c1164100ff75e32d55ba1de3baf9eaa01b7d2a9/google_cloud_core-1.6.0-py2.py3-none-any.whl\n",
            "Collecting google-crc32c<2.0dev,>=1.0; python_version >= \"3.5\"\n",
            "  Downloading https://files.pythonhosted.org/packages/fc/ae/b6efa1019e18c6c791f0f5cd93b2ff40f8f06696dbf04db39ec0f5591b1e/google_crc32c-1.1.2-cp37-cp37m-manylinux2014_x86_64.whl\n",
            "Requirement already satisfied: six in /usr/local/lib/python3.7/dist-packages (from google-resumable-media<2.0dev,>=1.2.0->google-cloud-storage) (1.15.0)\n",
            "Requirement already satisfied: rsa<5,>=3.1.4; python_version >= \"3.6\" in /usr/local/lib/python3.7/dist-packages (from google-auth<2.0dev,>=1.11.0->google-cloud-storage) (4.7.2)\n",
            "Requirement already satisfied: pyasn1-modules>=0.2.1 in /usr/local/lib/python3.7/dist-packages (from google-auth<2.0dev,>=1.11.0->google-cloud-storage) (0.2.8)\n",
            "Requirement already satisfied: cachetools<5.0,>=2.0.0 in /usr/local/lib/python3.7/dist-packages (from google-auth<2.0dev,>=1.11.0->google-cloud-storage) (4.2.2)\n",
            "Requirement already satisfied: setuptools>=40.3.0 in /usr/local/lib/python3.7/dist-packages (from google-auth<2.0dev,>=1.11.0->google-cloud-storage) (57.0.0)\n",
            "Requirement already satisfied: chardet<4,>=3.0.2 in /usr/local/lib/python3.7/dist-packages (from requests<3.0.0dev,>=2.18.0->google-cloud-storage) (3.0.4)\n",
            "Requirement already satisfied: idna<3,>=2.5 in /usr/local/lib/python3.7/dist-packages (from requests<3.0.0dev,>=2.18.0->google-cloud-storage) (2.10)\n",
            "Requirement already satisfied: urllib3!=1.25.0,!=1.25.1,<1.26,>=1.21.1 in /usr/local/lib/python3.7/dist-packages (from requests<3.0.0dev,>=2.18.0->google-cloud-storage) (1.24.3)\n",
            "Requirement already satisfied: certifi>=2017.4.17 in /usr/local/lib/python3.7/dist-packages (from requests<3.0.0dev,>=2.18.0->google-cloud-storage) (2020.12.5)\n",
            "Requirement already satisfied: google-api-core<2.0.0dev,>=1.21.0 in /usr/local/lib/python3.7/dist-packages (from google-cloud-core<2.0dev,>=1.4.1->google-cloud-storage) (1.26.3)\n",
            "Requirement already satisfied: cffi>=1.0.0 in /usr/local/lib/python3.7/dist-packages (from google-crc32c<2.0dev,>=1.0; python_version >= \"3.5\"->google-resumable-media<2.0dev,>=1.2.0->google-cloud-storage) (1.14.5)\n",
            "Requirement already satisfied: pyasn1>=0.1.3 in /usr/local/lib/python3.7/dist-packages (from rsa<5,>=3.1.4; python_version >= \"3.6\"->google-auth<2.0dev,>=1.11.0->google-cloud-storage) (0.4.8)\n",
            "Requirement already satisfied: pytz in /usr/local/lib/python3.7/dist-packages (from google-api-core<2.0.0dev,>=1.21.0->google-cloud-core<2.0dev,>=1.4.1->google-cloud-storage) (2018.9)\n",
            "Requirement already satisfied: googleapis-common-protos<2.0dev,>=1.6.0 in /usr/local/lib/python3.7/dist-packages (from google-api-core<2.0.0dev,>=1.21.0->google-cloud-core<2.0dev,>=1.4.1->google-cloud-storage) (1.53.0)\n",
            "Requirement already satisfied: protobuf>=3.12.0 in /usr/local/lib/python3.7/dist-packages (from google-api-core<2.0.0dev,>=1.21.0->google-cloud-core<2.0dev,>=1.4.1->google-cloud-storage) (3.12.4)\n",
            "Requirement already satisfied: packaging>=14.3 in /usr/local/lib/python3.7/dist-packages (from google-api-core<2.0.0dev,>=1.21.0->google-cloud-core<2.0dev,>=1.4.1->google-cloud-storage) (20.9)\n",
            "Requirement already satisfied: pycparser in /usr/local/lib/python3.7/dist-packages (from cffi>=1.0.0->google-crc32c<2.0dev,>=1.0; python_version >= \"3.5\"->google-resumable-media<2.0dev,>=1.2.0->google-cloud-storage) (2.20)\n",
            "Requirement already satisfied: pyparsing>=2.0.2 in /usr/local/lib/python3.7/dist-packages (from packaging>=14.3->google-api-core<2.0.0dev,>=1.21.0->google-cloud-core<2.0dev,>=1.4.1->google-cloud-storage) (2.4.7)\n",
            "\u001b[31mERROR: google-cloud-bigquery 1.21.0 has requirement google-resumable-media!=0.4.0,<0.5.0dev,>=0.3.1, but you'll have google-resumable-media 1.3.0 which is incompatible.\u001b[0m\n",
            "Installing collected packages: google-crc32c, google-resumable-media, google-cloud-core\n",
            "  Found existing installation: google-resumable-media 0.4.1\n",
            "    Uninstalling google-resumable-media-0.4.1:\n",
            "      Successfully uninstalled google-resumable-media-0.4.1\n",
            "  Found existing installation: google-cloud-core 1.0.3\n",
            "    Uninstalling google-cloud-core-1.0.3:\n",
            "      Successfully uninstalled google-cloud-core-1.0.3\n",
            "Successfully installed google-cloud-core-1.6.0 google-crc32c-1.1.2 google-resumable-media-1.3.0\n"
          ],
          "name": "stdout"
        },
        {
          "output_type": "display_data",
          "data": {
            "application/vnd.colab-display-data+json": {
              "pip_warning": {
                "packages": [
                  "google"
                ]
              }
            }
          },
          "metadata": {
            "tags": []
          }
        }
      ]
    },
    {
      "cell_type": "code",
      "metadata": {
        "colab": {
          "base_uri": "https://localhost:8080/"
        },
        "id": "WCK8nOY4QwM3",
        "outputId": "4a452e95-aed4-47a2-807a-9bbb04884b20"
      },
      "source": [
        "pip install 'xgboost==1.1'"
      ],
      "execution_count": null,
      "outputs": [
        {
          "output_type": "stream",
          "text": [
            "Collecting xgboost==1.1\n",
            "\u001b[?25l  Downloading https://files.pythonhosted.org/packages/75/6c/fb30ff1703846db8e8e511399e41123ac968dc29171f04e9f0b2585e40c9/xgboost-1.1.0-py3-none-manylinux2010_x86_64.whl (127.6MB)\n",
            "\u001b[K     |████████████████████████████████| 127.6MB 82kB/s \n",
            "\u001b[?25hRequirement already satisfied: scipy in /usr/local/lib/python3.7/dist-packages (from xgboost==1.1) (1.4.1)\n",
            "Requirement already satisfied: numpy in /usr/local/lib/python3.7/dist-packages (from xgboost==1.1) (1.19.5)\n",
            "Installing collected packages: xgboost\n",
            "  Found existing installation: xgboost 0.90\n",
            "    Uninstalling xgboost-0.90:\n",
            "      Successfully uninstalled xgboost-0.90\n",
            "Successfully installed xgboost-1.1.0\n"
          ],
          "name": "stdout"
        }
      ]
    },
    {
      "cell_type": "markdown",
      "metadata": {
        "id": "xHhid1XLSgh9"
      },
      "source": [
        "### Restart the Kernel\n",
        "\n",
        "Once you've installed the AI Platform Python client library, you need to restart the notebook kernel so it can find the packages."
      ]
    },
    {
      "cell_type": "code",
      "metadata": {
        "id": "9luQpONrzPb6"
      },
      "source": [
        "import os\n",
        "\n",
        "if not os.getenv(\"IS_TESTING\"):\n",
        "    # Automatically restart kernel after installs\n",
        "    import IPython\n",
        "\n",
        "    app = IPython.Application.instance()\n",
        "    app.kernel.do_shutdown(True)"
      ],
      "execution_count": null,
      "outputs": []
    },
    {
      "cell_type": "markdown",
      "metadata": {
        "id": "BF1j6f9HApxa"
      },
      "source": [
        "### Set up your Google Cloud project\n",
        "\n",
        "**The following steps are required, regardless of your notebook environment.**\n",
        "\n",
        "1. [Select or create a Google Cloud project](https://console.cloud.google.com/cloud-resource-manager). When you first create an account, you get a $300 free credit towards your compute/storage costs.\n",
        "\n",
        "2. [Make sure that billing is enabled for your project.](https://cloud.google.com/billing/docs/how-to/modify-project)\n",
        "\n",
        "3. [Enable the AI Platform API, Compute Engine API and Container Registry API.](https://console.cloud.google.com/flows/enableapi?apiid=aiplatform.googleapis.com,compute_component,containerregistry.googleapis.com)\n",
        "\n",
        "4. Enter your project ID in the cell below. Then run the  cell to make sure the\n",
        "Cloud SDK uses the right project for all the commands in this notebook.\n",
        "\n"
      ]
    },
    {
      "cell_type": "markdown",
      "metadata": {
        "id": "AYRN_Qw-Sgh-"
      },
      "source": [
        "#### Project ID\n",
        "\n",
        "**If you don't know your project ID**, you might be able to get your project ID using `gcloud` command by executing the second cell below."
      ]
    },
    {
      "cell_type": "code",
      "metadata": {
        "id": "DQdw6JPnSgh-"
      },
      "source": [
        "PROJECT_ID = \"myproject051321\"  # @param {type:\"string\"}"
      ],
      "execution_count": null,
      "outputs": []
    },
    {
      "cell_type": "code",
      "metadata": {
        "id": "oM1iC_MfAts1"
      },
      "source": [
        "if PROJECT_ID == \"\" or PROJECT_ID is None or PROJECT_ID == \"[your-project-id]\":\n",
        "    # Get your GCP project id from gcloud\n",
        "    shell_output = !gcloud config list --format 'value(core.project)' 2>/dev/null\n",
        "    PROJECT_ID = shell_output[0]\n",
        "    print(\"Project ID:\", PROJECT_ID)"
      ],
      "execution_count": null,
      "outputs": []
    },
    {
      "cell_type": "code",
      "metadata": {
        "id": "0IzIAoOESgh_",
        "colab": {
          "base_uri": "https://localhost:8080/"
        },
        "outputId": "e17df992-9484-466c-f9f5-ab7f1e806382"
      },
      "source": [
        "! gcloud config set project $PROJECT_ID"
      ],
      "execution_count": null,
      "outputs": [
        {
          "output_type": "stream",
          "text": [
            "Updated property [core/project].\n"
          ],
          "name": "stdout"
        }
      ]
    },
    {
      "cell_type": "markdown",
      "metadata": {
        "id": "AUGMD_1OSgh_"
      },
      "source": [
        "#### Region\n",
        "\n",
        "`REGION` variable is used for operations\n",
        "throughout the rest of this notebook.  Below are regions supported for AI Platform. We choose the region closest to you. \n",
        "\n",
        "- Americas: `us-central1`\n",
        "- Europe: `europe-west4`\n",
        "- Asia Pacific: `asia-east1`\n",
        "\n",
        "You must not use a multi-regional bucket for training with AI Platform. Not all regions provide support for all AI Platform services. For the latest support per region, see [the AI Platform locations documenation](https://cloud.google.com/ai-platform-unified/docs/general/locations)"
      ]
    },
    {
      "cell_type": "code",
      "metadata": {
        "id": "8A7XG20mSgh_"
      },
      "source": [
        "REGION = \"us-central1\"  # @param {type: \"string\"}"
      ],
      "execution_count": null,
      "outputs": []
    },
    {
      "cell_type": "markdown",
      "metadata": {
        "id": "2PdiXxFUSgiA"
      },
      "source": [
        "#### Timestamp\n",
        "\n",
        "If you are in a live tutorial session, you might be using a shared test account or project. To avoid name collisions between users on resources created, you create a timestamp for each instance session, and append onto the name of resources which will be created in this tutorial."
      ]
    },
    {
      "cell_type": "code",
      "metadata": {
        "id": "8vjYoJ23SgiA"
      },
      "source": [
        "from datetime import datetime\n",
        "\n",
        "TIMESTAMP = datetime.now().strftime(\"%Y%m%d%H%M%S\")"
      ],
      "execution_count": null,
      "outputs": []
    },
    {
      "cell_type": "markdown",
      "metadata": {
        "id": "dr--iN2kAylZ"
      },
      "source": [
        "### Authenticate your Google Cloud account\n",
        "\n",
        "**If you are using AI Platform Notebooks**, your environment is already\n",
        "authenticated. Skip this step."
      ]
    },
    {
      "cell_type": "code",
      "metadata": {
        "id": "EUtd38RFSgiA"
      },
      "source": [
        "import os\n",
        "import sys\n",
        "\n",
        "# If you are running this notebook in Colab, run this cell and follow the\n",
        "# instructions to authenticate your Google Cloud account. This provides access\n",
        "# to your Cloud Storage bucket and lets you submit training jobs and prediction\n",
        "# requests.\n",
        "\n",
        "# If on AI Platform Notebooks, then don't execute this code\n",
        "if not os.path.exists(\"/opt/deeplearning/metadata/env_version\"):\n",
        "    if \"google.colab\" in sys.modules:\n",
        "        from google.colab import auth as google_auth\n",
        "\n",
        "        google_auth.authenticate_user()\n",
        "\n",
        "    # If you are running this tutorial in a notebook locally, replace the string\n",
        "    # below with the path to your service account key and run this cell to\n",
        "    # authenticate your Google Cloud account.\n",
        "    elif not os.getenv(\"IS_TESTING\"):\n",
        "        %env GOOGLE_APPLICATION_CREDENTIALS your_path_to_credentials.json"
      ],
      "execution_count": null,
      "outputs": []
    },
    {
      "cell_type": "markdown",
      "metadata": {
        "id": "zgPO1eR3CYjk"
      },
      "source": [
        "### Create a Cloud Storage bucket\n",
        "\n",
        "**The following steps are required, regardless of your notebook environment.**\n",
        "\n",
        "We upload a Python package\n",
        "containing the training code to a Cloud Storage bucket. AI Platform runs\n",
        "the code from this package. Model will be saved later. We can then\n",
        "create an AI Platform `Endpoint` based on this output in order to serve\n",
        "online predictions.\n",
        "\n",
        "Set the name of your Cloud Storage bucket below. It must be unique across all\n",
        "Cloud Storage buckets. "
      ]
    },
    {
      "cell_type": "code",
      "metadata": {
        "id": "MzGDU7TWdts_"
      },
      "source": [
        "BUCKET_NAME = \"myproject1051321\"  # @param {type:\"string\"}"
      ],
      "execution_count": null,
      "outputs": []
    },
    {
      "cell_type": "code",
      "metadata": {
        "id": "UccUpYmtSgiB"
      },
      "source": [
        "if BUCKET_NAME == \"\" or BUCKET_NAME is None or BUCKET_NAME == \"[your-bucket-name]\":\n",
        "    BUCKET_NAME = PROJECT_ID + \"ucaip-custom-\" + TIMESTAMP"
      ],
      "execution_count": null,
      "outputs": []
    },
    {
      "cell_type": "markdown",
      "metadata": {
        "id": "-EcIXiGsCePi"
      },
      "source": [
        "**Only if your bucket doesn't already exist**: Run the following cell to create your Cloud Storage bucket."
      ]
    },
    {
      "cell_type": "code",
      "metadata": {
        "id": "NIq7R4HZCfIc"
      },
      "source": [
        "#! gsutil mb -l $REGION gs://$BUCKET_NAME"
      ],
      "execution_count": null,
      "outputs": []
    },
    {
      "cell_type": "markdown",
      "metadata": {
        "id": "ucvCsknMCims"
      },
      "source": [
        "Finally, validate access to your Cloud Storage bucket by examining its contents:"
      ]
    },
    {
      "cell_type": "code",
      "metadata": {
        "id": "vhOb7YnwClBb",
        "colab": {
          "base_uri": "https://localhost:8080/"
        },
        "outputId": "a62df6f4-4620-4f62-cd45-8f9ad4fa2910"
      },
      "source": [
        "! gsutil ls -al gs://$BUCKET_NAME"
      ],
      "execution_count": null,
      "outputs": [
        {
          "output_type": "stream",
          "text": [
            "      6168  2021-06-07T02:06:53Z  gs://myproject1051321/trainer_xgb.tar.gz#1623031613252266  metageneration=1\n",
            "                                 gs://myproject1051321/custom_job_20210516013132/\n",
            "                                 gs://myproject1051321/data/\n",
            "TOTAL: 1 objects, 6168 bytes (6.02 KiB)\n"
          ],
          "name": "stdout"
        }
      ]
    },
    {
      "cell_type": "markdown",
      "metadata": {
        "id": "XoEqT2Y4DJmf"
      },
      "source": [
        "### Import libraries and define constants"
      ]
    },
    {
      "cell_type": "markdown",
      "metadata": {
        "id": "Y9Uo3tifg1kx"
      },
      "source": [
        "#### Import AI Platform Python client library\n",
        "\n",
        "Import the AI Platform Python client library into your Python environment."
      ]
    },
    {
      "cell_type": "code",
      "metadata": {
        "id": "pRUOFELefqf1"
      },
      "source": [
        "import os\n",
        "import sys\n",
        "import time\n",
        "\n",
        "from google.cloud.aiplatform import gapic as aip\n",
        "from google.protobuf import json_format\n",
        "from google.protobuf.struct_pb2 import Value"
      ],
      "execution_count": null,
      "outputs": []
    },
    {
      "cell_type": "markdown",
      "metadata": {
        "id": "3oSzuw_tSgiC"
      },
      "source": [
        "#### AI Platform constants\n",
        "\n",
        "Set some constants for AI Platform:\n",
        "\n",
        "- `API_ENDPOINT`: The AI Platform API service endpoint for the Job, Model, Endpoint, and Prediction services.\n",
        "- `PARENT`: The AI Platform location root path for dataset, model and endpoint resources."
      ]
    },
    {
      "cell_type": "code",
      "metadata": {
        "id": "Xi3O4mNnSgiD"
      },
      "source": [
        "# API service endpoint\n",
        "API_ENDPOINT = \"{}-aiplatform.googleapis.com\".format(REGION)\n",
        "\n",
        "# AI Platform (Unified) location root path for your dataset, model and endpoint resources\n",
        "PARENT = \"projects/\" + PROJECT_ID + \"/locations/\" + REGION"
      ],
      "execution_count": null,
      "outputs": []
    },
    {
      "cell_type": "code",
      "metadata": {
        "colab": {
          "base_uri": "https://localhost:8080/",
          "height": 37
        },
        "id": "xTKuBE71oIZc",
        "outputId": "8248c7f8-242d-4bf1-991a-bd2583c1e5b1"
      },
      "source": [
        "PARENT"
      ],
      "execution_count": null,
      "outputs": [
        {
          "output_type": "execute_result",
          "data": {
            "application/vnd.google.colaboratory.intrinsic+json": {
              "type": "string"
            },
            "text/plain": [
              "'projects/myproject051321/locations/us-central1'"
            ]
          },
          "metadata": {
            "tags": []
          },
          "execution_count": 13
        }
      ]
    },
    {
      "cell_type": "code",
      "metadata": {
        "id": "n2f-16SHSgiD"
      },
      "source": [
        "#TRAIN_GPU, TRAIN_NGPU = (aip.AcceleratorType.NVIDIA_TESLA_K80, 1)\n",
        "TRAIN_GPU, TRAIN_NGPU = (None, None)\n",
        "DEPLOY_GPU, DEPLOY_NGPU = (None, None)"
      ],
      "execution_count": null,
      "outputs": []
    },
    {
      "cell_type": "markdown",
      "metadata": {
        "id": "5AZ-G7F0SgiD"
      },
      "source": [
        "#### Container (Docker) image\n",
        "\n",
        "Next, set the Docker container images for training and prediction.\n",
        "\n",
        "\n",
        " - XGBoost\n",
        "   - `gcr.io/cloud-aiplatform/training/xgboost-cpu.1-1`\n",
        "   - `gcr.io/cloud-aiplatform/prediction/xgboost-cpu.1-1`\n",
        " \n",
        "AI Platform frequently adds new training and prediction container images. For the latest list, see [Pre-built containers for training](https://cloud.google.com/ai-platform-unified/docs/training/pre-built-containers) and [Pre-built containers for prediction](https://cloud.google.com/ai-platform-unified/docs/predictions/pre-built-containers)"
      ]
    },
    {
      "cell_type": "code",
      "metadata": {
        "id": "fTSZrF5uSgiE",
        "colab": {
          "base_uri": "https://localhost:8080/"
        },
        "outputId": "ba292316-3dac-451a-871c-2ee17eab5750"
      },
      "source": [
        "TRAIN_IMAGE = \"gcr.io/cloud-aiplatform/training/xgboost-cpu.1-1\"\n",
        "DEPLOY_IMAGE = \"gcr.io/cloud-aiplatform/prediction/xgboost-cpu.1-1\"\n",
        "\n",
        "print(\"Training:\", TRAIN_IMAGE)\n",
        "print(\"Deployment:\", DEPLOY_IMAGE)"
      ],
      "execution_count": null,
      "outputs": [
        {
          "output_type": "stream",
          "text": [
            "Training: gcr.io/cloud-aiplatform/training/xgboost-cpu.1-1\n",
            "Deployment: gcr.io/cloud-aiplatform/prediction/xgboost-cpu.1-1\n"
          ],
          "name": "stdout"
        }
      ]
    },
    {
      "cell_type": "markdown",
      "metadata": {
        "id": "H3Ul12vESgiE"
      },
      "source": [
        "#### Machine Type\n",
        "\n",
        "Next, set the machine type to use for training and prediction.\n",
        "\n",
        "- Set the variables `TRAIN_COMPUTE` and `DEPLOY_COMPUTE` to configure the compute resources for the VMs you will use for training and prediction.\n",
        " - `machine type`\n",
        "     - `n1-standard`: 3.75GB of memory per vCPU.\n",
        "     - `n1-highmem`: 6.5GB of memory per vCPU\n",
        "     - `n1-highcpu`: 0.9 GB of memory per vCPU\n",
        " - `vCPUs`: number of \\[2, 4, 8, 16, 32, 64, 96 \\]\n",
        "  \n",
        "*Note: The following is not supported for training*\n",
        " \n",
        " - `standard`: 2 vCPUs\n",
        " - `highcpu`: 2, 4 and 8 vCPUs\n",
        " \n",
        "*Note: You may also use n2 and e2 machine types for training and deployment, but they do not support GPUs*\n",
        "\n",
        "We choose `n1-highmem-8` for this project."
      ]
    },
    {
      "cell_type": "code",
      "metadata": {
        "id": "nW8L66UNSgiE",
        "colab": {
          "base_uri": "https://localhost:8080/"
        },
        "outputId": "e648a0af-b2b3-47de-8d3c-c9400e187a06"
      },
      "source": [
        "MACHINE_TYPE = \"n1-highmem\"\n",
        "VCPU = \"8\"\n",
        "TRAIN_COMPUTE = MACHINE_TYPE + \"-\" + VCPU\n",
        "print(\"Train machine type\", TRAIN_COMPUTE)\n",
        "\n",
        "MACHINE_TYPE = \"n1-highmem\"\n",
        "VCPU = \"8\"\n",
        "# If you want to deploy your model, specify its machine:\n",
        "DEPLOY_COMPUTE = MACHINE_TYPE + \"-\" + VCPU\n",
        "print(\"Deploy machine type\", DEPLOY_COMPUTE)"
      ],
      "execution_count": null,
      "outputs": [
        {
          "output_type": "stream",
          "text": [
            "Train machine type n1-highmem-8\n",
            "Deploy machine type n1-highmem-8\n"
          ],
          "name": "stdout"
        }
      ]
    },
    {
      "cell_type": "markdown",
      "metadata": {
        "id": "E6ppE7imft-y"
      },
      "source": [
        "## Clients\n",
        "\n",
        "The AI Platform Python client library works as a client/server model. On your side, the Python script, you will create a client that sends requests and receives responses from the server -- AI Platform.\n",
        "\n",
        "Use several clients in this tutorial, so you will set them all up upfront.\n",
        "\n",
        "- Job Service for custom jobs.\n",
        "- Model Service for managed models.\n",
        "- Endpoint Service for deployment.\n",
        "- Prediction Service for serving."
      ]
    },
    {
      "cell_type": "code",
      "metadata": {
        "id": "q94MP0upSgiE",
        "colab": {
          "base_uri": "https://localhost:8080/"
        },
        "outputId": "f0ed65a3-552e-409c-da64-1e5065faa861"
      },
      "source": [
        "# client options same for all services\n",
        "client_options = {\"api_endpoint\": API_ENDPOINT}\n",
        "predict_client_options = {\"api_endpoint\": API_ENDPOINT}\n",
        "\n",
        "def create_job_client():\n",
        "    client = aip.JobServiceClient(client_options=client_options)\n",
        "    return client\n",
        "\n",
        "def create_model_client():\n",
        "    client = aip.ModelServiceClient(client_options=client_options)\n",
        "    return client\n",
        "\n",
        "def create_endpoint_client():\n",
        "    client = aip.EndpointServiceClient(client_options=client_options)\n",
        "    return client\n",
        "\n",
        "def create_prediction_client():\n",
        "    client = aip.PredictionServiceClient(client_options=predict_client_options)\n",
        "    return client\n",
        "\n",
        "clients = {}\n",
        "clients[\"job\"] = create_job_client()\n",
        "clients[\"model\"] = create_model_client()\n",
        "clients[\"endpoint\"] = create_endpoint_client()\n",
        "clients[\"prediction\"] = create_prediction_client()\n",
        "\n",
        "for client in clients.items():\n",
        "    print(client)"
      ],
      "execution_count": null,
      "outputs": [
        {
          "output_type": "stream",
          "text": [
            "WARNING:google.auth._default:No project ID could be determined. Consider running `gcloud config set project` or setting the GOOGLE_CLOUD_PROJECT environment variable\n",
            "WARNING:google.auth._default:No project ID could be determined. Consider running `gcloud config set project` or setting the GOOGLE_CLOUD_PROJECT environment variable\n",
            "WARNING:google.auth._default:No project ID could be determined. Consider running `gcloud config set project` or setting the GOOGLE_CLOUD_PROJECT environment variable\n",
            "WARNING:google.auth._default:No project ID could be determined. Consider running `gcloud config set project` or setting the GOOGLE_CLOUD_PROJECT environment variable\n",
            "('job', <google.cloud.aiplatform_v1.services.job_service.client.JobServiceClient object at 0x7f2cc79cb210>)\n",
            "('model', <google.cloud.aiplatform_v1.services.model_service.client.ModelServiceClient object at 0x7f2cc79cb250>)\n",
            "('endpoint', <google.cloud.aiplatform_v1.services.endpoint_service.client.EndpointServiceClient object at 0x7f2cc79cb290>)\n",
            "('prediction', <google.cloud.aiplatform_v1.services.prediction_service.client.PredictionServiceClient object at 0x7f2ccc480d90>)\n"
          ],
          "name": "stdout"
        }
      ]
    },
    {
      "cell_type": "markdown",
      "metadata": {
        "id": "S3opmo2vSgiE"
      },
      "source": [
        "## Prepare your `CustomJob` specification\n",
        "\n",
        "Now that your clients are ready, your first step is to create a `CustomJob` specification for your custom training job.\n",
        "\n",
        "### Define a container specification\n",
        "\n",
        "Let's first start by defining a job name and then a container specification:\n",
        "\n",
        "- `JOB_NAME`: A unique name for your custom training job. For convenience, append a timestamp to make the name unique.\n",
        "- `MODEL_DIR`: A location in your Cloud Storage bucket for storing the model artificats.\n",
        "- `image_uri`: The location of the container image in Artifact Registry, Container Registry, or Docker Hub. This can be either a Google Cloud pre-built image or your own container image.\n",
        "- `--model-dir`: A command-line parameter to the container indicating the location to store the model."
      ]
    },
    {
      "cell_type": "markdown",
      "metadata": {
        "id": "3XGfA59TSgiI"
      },
      "source": [
        "### Examine the training package\n",
        "\n",
        "#### Package layout\n",
        "\n",
        "Before you start the training, look at how a Python package is assembled for a custom training job. When unarchived, the package contains the following directory/file layout.\n",
        "\n",
        "- PKG-INFO\n",
        "- README.md\n",
        "- setup.cfg\n",
        "- setup.py\n",
        "- trainer\n",
        "  - \\_\\_init\\_\\_.py\n",
        "  - task.py\n",
        "\n",
        "The files `setup.cfg` and `setup.py` are the instructions for installing the package into the operating environment of the Docker container.\n",
        "\n",
        "The file `trainer/task.py` is the Python script for executing the `CustomJob`. *Note*, when we referred to it in the worker pool specification, we replace the directory slash with a dot (`trainer.task`) and dropped the file suffix (`.py`). A sample for building the python package for training a xgboost base can be found [here](https://github.com/GoogleCloudPlatform/ai-platform-samples/tree/master/training/xgboost/structured/base)\n",
        "\n",
        "#### Package Assembly\n",
        "\n",
        "In the following cells, we will assemble the training package."
      ]
    },
    {
      "cell_type": "code",
      "metadata": {
        "id": "xvbmuC-GSgiI"
      },
      "source": [
        "# Make folder for Python training script\n",
        "! rm -rf custom\n",
        "! mkdir custom\n",
        "\n",
        "# Add package information\n",
        "! touch custom/README.md\n",
        "\n",
        "setup_cfg = \"[egg_info]\\n\\\n",
        "tag_build =\\n\\\n",
        "tag_date = 0\"\n",
        "! echo \"$setup_cfg\" > custom/setup.cfg\n",
        "\n",
        "# Use gscfs module to enable pandas to read from GCS\n",
        "setup_py = \"import setuptools\\n\\\n",
        "# Requires TensorFlow Datasets\\n\\\n",
        "setuptools.setup(\\n\\\n",
        "                 install_requires=[\\n\\\n",
        "                'pip==21.1.2',\\n\\\n",
        "                'pandas==1.1.5',\\n\\\n",
        "                'xgboost==1.1',\\n\\\n",
        "                'gcsfs',\\n\\\n",
        "                'cloudml-hypertune'],\\n\\\n",
        "                packages=setuptools.find_packages())\"\n",
        "! echo \"$setup_py\" > custom/setup.py\n",
        "\n",
        "pkg_info = \"Metadata-Version: 1.0\\n\\\n",
        "Name: UNKNOWN\\n\\\n",
        "Version: 0.0.0\\n\\\n",
        "Summary: Demostration training script\\n\\\n",
        "Home-page: www.google.com\\n\\\n",
        "Author: Google\\n\\\n",
        "Author-email: UNKNOWN\\n\\\n",
        "License: Public\\n\\\n",
        "Description: Demo\\n\\\n",
        "Platform: AI Platform (Unified)\"\n",
        "! echo \"$pkg_info\" > custom/PKG-INFO\n",
        "\n",
        "# Make the training subfolder\n",
        "! mkdir custom/trainer\n",
        "! touch custom/trainer/__init__.py"
      ],
      "execution_count": null,
      "outputs": []
    },
    {
      "cell_type": "markdown",
      "metadata": {
        "id": "sY6NTRwtSgiI"
      },
      "source": [
        "#### Task.py contents\n",
        "\n",
        "In the next cell, the contents of the training script task.py will be written. In summary, the training script does the following:\n",
        "\n",
        "- Gets the directory where to save the model artifacts from the command line (`--model_dir`).\n",
        "- Downloads dataset from Kaggle.\n",
        "- Loads the raw data and builds a time series dataset from it. \n",
        "- Trains a XGBoost model according to the arguments\n",
        "- Saves the trained model to the specified model directory."
      ]
    },
    {
      "cell_type": "markdown",
      "metadata": {
        "id": "i7BxpANyc9AW"
      },
      "source": [
        "In preparation of the dataset, I learned from [this notebook](https://www.kaggle.com/dlarionov/feature-engineering-xgboost/notebook) from Kaggle. In particular, the way the string features are encoded from Russian language and also other feature are from this notebook. Without this insight from Russian language, I would have to tokenize the text and pick the mose important one later after analyzing the trained model and related features. This would lead to dropping a many of those encoded words.  However, the structure of the data during and after processing is significantly different from the mentioned notebook."
      ]
    },
    {
      "cell_type": "markdown",
      "metadata": {
        "id": "9lfxCjC8FsGC"
      },
      "source": [
        "***Note***: In definition of function `create_dataset`, we add one dummy record for month number 35, with any arbitrary (item_id, shop_id) and any price or item_cnt_day values. The values do not matter as they wont be used anyways. When we later pivot the table, this single record automatically gets expanded to the whole set of (item_id, shop_id) pairs existed in the train set for the month number 35. This part of data will form our **test set** later. "
      ]
    },
    {
      "cell_type": "code",
      "metadata": {
        "colab": {
          "base_uri": "https://localhost:8080/"
        },
        "id": "3k1uTem_5Qjk",
        "outputId": "bbb55de7-97dd-4216-efc2-28a98a159689"
      },
      "source": [
        "%%writefile custom/trainer/model.py\n",
        "\n",
        "import xgboost as xgb\n",
        "import logging\n",
        "import os\n",
        "import hypertune\n",
        "import numpy as np\n",
        "from trainer import utils\n",
        "import pickle\n",
        "\n",
        "# We can submit a hyperparameter job as we will see later. \n",
        "HYPERPARAMETER_TUNING = False\n",
        "\n",
        "def train_xgb(data, arguments, output_path):\n",
        "    x_train, y_train, x_val, y_val = data\n",
        "    dtrain = xgb.DMatrix(data=x_train, label=y_train)\n",
        "    # Set early_stopping if there is any validation data\n",
        "\n",
        "    params = {'eval_metric': ['rmse', 'mae'],\n",
        "              'learning_rate': arguments.learning_rate,\n",
        "              'eta': arguments.eta,\n",
        "              'max_depth': arguments.max_depth,\n",
        "              'alpha': arguments.alpha,\n",
        "              'verbosity': 0,\n",
        "              'min_child_weight': arguments.min_child_weight,\n",
        "              'subsample': arguments.subsample,\n",
        "              #'sampling_method': 'gradient_based',\n",
        "              #'colsample_bytree': 0.9,\n",
        "              #'colsample_bylevel': 1,\n",
        "              'tree_method': 'hist',\n",
        "              'seed': 0,\n",
        "              'disable_default_eval_metric': 1,\n",
        "              'num_parallel_tree': arguments.num_parallel_tree,\n",
        "            }\n",
        "    \n",
        "    # Train the model with specified parameters\n",
        "    if not x_val.empty:\n",
        "          results = {} \n",
        "          dval = xgb.DMatrix(data=x_val, label=y_val)\n",
        "          evals=[(dtrain, 'dtrain'), (dval, 'dval')]\n",
        "          model = xgb.train(params, \n",
        "                            dtrain, \n",
        "                            num_boost_round=arguments.num_boost_round,\n",
        "                            evals=evals,\n",
        "                            early_stopping_rounds = 5,\n",
        "                            evals_result=results\n",
        "                            )\n",
        "          logging.info('Scores: %s', results)\n",
        "    else:\n",
        "          model = xgb.train(params, \n",
        "                            dtrain, \n",
        "                            num_boost_round=arguments.num_boost_round,\n",
        "                            )\n",
        "          \n",
        "    temp_file = '/tmp/modelfile'\n",
        "    # Use save_model method of a xgb booster or pickle the model\n",
        "    # model.save_model(temp_file)\n",
        "    pickle.dump(model, open(temp_file, 'wb'))\n",
        "    model_output_path = os.path.join(output_path, 'model')\n",
        "    utils.copy_file(temp_file, model_output_path)\n",
        "\n",
        "    if HYPERPARAMETER_TUNING:\n",
        "\n",
        "        # The default name of the metric is training/hptuning/metric.\n",
        "        # We recommend that you assign a custom name\n",
        "        # The only functional difference is that if you use a custom name,\n",
        "        # you must set the hyperparameterMetricTag value in the\n",
        "        # HyperparameterSpec object in the job request to match the chosen name\n",
        "        hpt = hypertune.HyperTune()\n",
        "        hpt.report_hyperparameter_tuning_metric(\n",
        "            hyperparameter_metric_tag='my_metric_tag',\n",
        "            metric_value=np.mean(results['dval']['rmse']),\n",
        "            global_step=1000)\n"
      ],
      "execution_count": null,
      "outputs": [
        {
          "output_type": "stream",
          "text": [
            "Writing custom/trainer/model.py\n"
          ],
          "name": "stdout"
        }
      ]
    },
    {
      "cell_type": "code",
      "metadata": {
        "colab": {
          "base_uri": "https://localhost:8080/"
        },
        "id": "PPT1aVAiePGZ",
        "outputId": "0cc1855e-0b7b-41ed-ad20-4a73cff6e509"
      },
      "source": [
        "%%writefile custom/trainer/task.py\n",
        "import pandas as pd\n",
        "import logging\n",
        "import pickle\n",
        "import sys\n",
        "import os\n",
        "import numpy as np\n",
        "import gcsfs\n",
        "from sklearn import model_selection\n",
        "import hypertune\n",
        "from trainer import model\n",
        "from trainer import utils\n",
        "\n",
        "\n",
        "BUCKET_NAME = 'myproject1051321'\n",
        "MODEL_DIR = 'gs://myproject1051321/custom_job_20210516013132'\n",
        "\n",
        "print('Python Version = {}'.format(sys.version))\n",
        "\n",
        "\n",
        "def main():\n",
        "    arguments = utils._parse_args()\n",
        "    # Load and preprocess data\n",
        "    train, items, shops, cats = utils.preprocess_data(BUCKET_NAME)\n",
        "    logging.info('intial preparation was done')\n",
        "    data = utils.create_data(train, items, shops, cats, arguments)\n",
        "    #data = data[data.month_num_pred>11]\n",
        "    test = data[data.month_num_pred==34]    # November, 2015 for test\n",
        "    logging.info('Length of test set is:' + str(len(test)))\n",
        "    logging.info('Final data is ready...')\n",
        "    if arguments.split_to_train_val:\n",
        "        logging.info('data is being splitted...')\n",
        "        # Use the last month of data as for validation\n",
        "        #train = data[(data.month_of_pred<10)|(data.year_of_pred!=2015)]\n",
        "        train = data[data.month_num_pred<33]\n",
        "        # October, 2015 for validation\n",
        "        val = data[data.month_num_pred==33] \n",
        "        y_val = val['label']\n",
        "        x_val = val.drop('label', axis=1)\n",
        "    else:\n",
        "        logging.info('data is not splitted...')\n",
        "        train = data[data.month_num_pred<34]\n",
        "        x_val, y_val = pd.DataFrame(), pd.DataFrame()\n",
        "    x_train = train.drop('label', axis=1)\n",
        "    y_train = train['label']\n",
        "    x_test = test.drop('label', axis=1)\n",
        "    # Save the test set for later prediction\n",
        "    x_test.to_pickle(MODEL_DIR + '/test.pkl')\n",
        "    # Pass the final data to xgboost for training and save the model\n",
        "    data = x_train, y_train, x_val, y_val\n",
        "    model.train_xgb(data, arguments, MODEL_DIR)\n",
        "\n",
        "if __name__ == '__main__':\n",
        "    main()"
      ],
      "execution_count": null,
      "outputs": [
        {
          "output_type": "stream",
          "text": [
            "Writing custom/trainer/task.py\n"
          ],
          "name": "stdout"
        }
      ]
    },
    {
      "cell_type": "code",
      "metadata": {
        "colab": {
          "base_uri": "https://localhost:8080/"
        },
        "id": "dyZSpfbbGPuJ",
        "outputId": "f66067cd-35bc-4d65-9abe-37caf0167ea4"
      },
      "source": [
        "%%writefile custom/trainer/utils.py\n",
        "\n",
        "import tensorflow as tf\n",
        "import ntpath\n",
        "import os\n",
        "import argparse\n",
        "import pandas as pd\n",
        "import numpy as np\n",
        "from sklearn.preprocessing import LabelEncoder\n",
        "import gc\n",
        "import logging\n",
        "\n",
        "\n",
        "def copy_file(old_path, new_path):\n",
        "    \"\"\"Copy the file from old_path to new_path\n",
        "    The paths can be local or on GCS\n",
        "    Args:\n",
        "      old_path: (string) original file location\n",
        "      new_path: (string) new location and name for the file to be copied to\n",
        "    Returns:\n",
        "      None\n",
        "    \"\"\"\n",
        "\n",
        "    # Make sure the local nested directory already exists:\n",
        "    out_dir = ntpath.split(new_path)[0]\n",
        "    if not (out_dir.startswith('gs://') and os.path.exists(out_dir)):\n",
        "        os.makedirs(out_dir)\n",
        "    tf.io.gfile.copy(old_path, new_path, overwrite=True)\n",
        "\n",
        "\n",
        "def _parse_args():\n",
        "    \"\"\"Parses command line arguments and pass them to different components of the python script\n",
        "    Returns: parser object\n",
        "      None\n",
        "    \"\"\"\n",
        "\n",
        "    parser = argparse.ArgumentParser() \n",
        "    parser.add_argument('--num_boost_round', dest='num_boost_round',\n",
        "                        default=10, type=int,\n",
        "                        help='num_boost_round') \n",
        "    parser.add_argument('--learning_rate', dest='learning_rate',\n",
        "                        default=0.05, type=float,\n",
        "                        help='learning_rate')\n",
        "    parser.add_argument('--eta', dest='eta',\n",
        "                        default=0.3, type=float,\n",
        "                        help='eta')\n",
        "    parser.add_argument('--max_depth', dest='max_depth',\n",
        "                        default=5, type=int,\n",
        "                        help='max_depth')\n",
        "    parser.add_argument('--min_child_weight', dest='min_child_weight',\n",
        "                        default=1, type=int,\n",
        "                        help='min_child_weight')\n",
        "    parser.add_argument('--alpha', dest='alpha',\n",
        "                        default=1.0, type=float,\n",
        "                        help='alpha')\n",
        "    parser.add_argument('--subsample', dest='subsample',\n",
        "                        default=0.5, type=float,\n",
        "                        help='subsample')\n",
        "    parser.add_argument('--num_parallel_tree', dest='num_parallel_tree',\n",
        "                        default=1, type=int,\n",
        "                        help='num_parallel_tree')\n",
        "    parser.add_argument('--split_to_train_val', dest='split_to_train_val',\n",
        "                        default=1, type=int,\n",
        "                        help='split_to_train_val')\n",
        "    parser.add_argument('--lag_length', dest='lag_length',\n",
        "                        default=6, type=int,\n",
        "                        help='lag_lenth')\n",
        "    parser.add_argument('--shift', dest='shift',\n",
        "                        default=1, type=int,\n",
        "                        help='shift')\n",
        "    \n",
        "    return parser.parse_args()\n",
        "\n",
        "\n",
        "def preprocess_data(BUCKET_NAME):\n",
        "    '''Loads data from GCS - \n",
        "    Removes outliers, \n",
        "    Replaces corrupted values, \n",
        "    Parses string columns and encode them\n",
        "    Returns: \n",
        "        Pandas DataFrame'''\n",
        "\n",
        "    # Read required data from GCS - It will be dowloaded to GCS from Kaggle platform later in following cells\n",
        "    train = pd.read_csv('gs://{}/data/sales_train.csv.zip'.format(BUCKET_NAME), parse_dates=['date'], dayfirst=True)\n",
        "    items = pd.read_csv('gs://{}/data/items.csv.zip'.format(BUCKET_NAME))\n",
        "    shops = pd.read_csv('gs://{}/data/shops.csv'.format(BUCKET_NAME))\n",
        "    cats = pd.read_csv('gs://{}/data/item_categories.csv'.format(BUCKET_NAME))\n",
        "\n",
        "    # Remove outliers\n",
        "    train = train[train.item_price<100000]\n",
        "    train = train[train.item_cnt_day<1001]\n",
        "\n",
        "    # Fill in for negative prices\n",
        "    median = train[(train.shop_id==32)&(train.item_id==2973)&(train.date_block_num==4)&(train.item_price>0)].item_price.median()\n",
        "    train.loc[train.item_price<0, 'item_price'] = median\n",
        "\n",
        "    # Handle string data: split shop names to city name plus the rest\n",
        "    #                     split category name into types and subtypes for items\n",
        "\n",
        "    shops.loc[shops.shop_name == 'Сергиев Посад ТЦ \"7Я\"', 'shop_name'] = 'СергиевПосад ТЦ \"7Я\"'\n",
        "    shops['city'] = shops['shop_name'].str.split(' ').map(lambda x: x[0])\n",
        "    shops.loc[shops.city == '!Якутск', 'city'] = 'Якутск'\n",
        "\n",
        "    shops['city_code'] = LabelEncoder().fit_transform(shops['city'])\n",
        "    shops = shops[['shop_id','city_code']]\n",
        "\n",
        "    cats['split'] = cats['item_category_name'].str.split('-')\n",
        "    cats['type'] = cats['split'].map(lambda x: x[0].strip())\n",
        "    cats['type_code'] = LabelEncoder().fit_transform(cats['type'])\n",
        "    \n",
        "    # If subtype is nan then type\n",
        "    cats['subtype'] = cats['split'].map(lambda x: x[1].strip() if len(x) > 1 else x[0].strip())\n",
        "    cats['subtype_code'] = LabelEncoder().fit_transform(cats['subtype'])\n",
        "    cats = cats[['item_category_id','type_code', 'subtype_code']]\n",
        "    \n",
        "    # We wont make use of item names. So drop that column.\n",
        "    items.drop(labels='item_name', axis=1, inplace=True)\n",
        "\n",
        "    # Remove possible duplicates\n",
        "    train.drop_duplicates(inplace=True)\n",
        "    items.drop_duplicates(inplace=True)\n",
        "    shops.drop_duplicates(inplace=True)\n",
        "    cats.drop_duplicates(inplace=True)\n",
        "\n",
        "    # we wont need daily date column as we will work with month number instead\n",
        "    train.drop('date', axis=1, inplace=True)\n",
        "\n",
        "    return train, items, shops, cats\n",
        "    \n",
        "\n",
        "def yer(x):\n",
        "    '''A untility function\n",
        "    Input: number of month from 0 to 33\n",
        "    Returns: year oo the month ranging from 2013 to 2015'''\n",
        "\n",
        "    if x<12: return 2013\n",
        "    elif x<24: return 2014\n",
        "    else: return 2015\n",
        "\n",
        "\n",
        "\n",
        "def prep_dataset(data, lag_length, lag_name, lags=None, with_label=True):\n",
        "    '''Creates lags of given names and a series of rows of data, each aiming \n",
        "    to target a label, which is item count in a month.'''\n",
        "\n",
        "    columns = []\n",
        "    # Column names\n",
        "    lag_title = ['{}_{}'.format(lag_name, i) for i in range(lag_length,0,-1)]\n",
        "    columns.extend(['shop_id', 'item_id'])\n",
        "    columns.extend(lag_title)\n",
        "    columns.extend(['month_of_pred', 'year_of_pred'])\n",
        "    if with_label: columns.extend(['label'])\n",
        "    prep_data = pd.DataFrame()\n",
        "    length = data.shape[0]\n",
        "    n = length - lag_length\n",
        "    for i in range(0,n):\n",
        "        df1 = pd.DataFrame(data.T.reset_index()[['shop_id', 'item_id']].values, columns=['shop_id', 'item_id'])\n",
        "        # Lag features are attached to (item_id, shop_id) pairs \n",
        "        df1 = pd.concat([df1, pd.DataFrame(data[length-1-i-lag_length: length-1-i].T.values, dtype='float16')], axis=1, ignore_index=True)\n",
        "        # Create month and year of the label being predicted - attach it to df1\n",
        "        df2 = pd.DataFrame({\n",
        "                            'month_of_pred': [data[length-i-1: length-i].index.values[0]%12+1]*df1.shape[0],\n",
        "                            'year_of_pred': [yer(data[length-i-1: length-i].index.values[0])]*df1.shape[0]\n",
        "                            }, dtype='int16')\n",
        "        # Add label only for item_cnt records\n",
        "        if with_label:\n",
        "            df3 = pd.DataFrame({'label':data[length-i-1: length-i].T.values.reshape(-1)},dtype='float16')\n",
        "            prep_data = prep_data.append(pd.concat([df1, df2, df3], axis=1, ignore_index=True))\n",
        "        else: \n",
        "            prep_data = prep_data.append(pd.concat([df1, df2], axis=1, ignore_index=True))\n",
        "        \n",
        "    prep_data.columns = columns\n",
        "    if lags:\n",
        "       drop = ['{}_{}'.format(lag_name, i) for i in lags]\n",
        "       prep_data.drop(drop, axis=1, inplace=True)\n",
        "    return prep_data\n",
        "\n",
        "def pivot(data, values, index, columns):\n",
        "    '''Pivot the input data around values indexed by month (0-33) . \n",
        "    the columns are the multi-index of item_id and shop_id'''\n",
        "\n",
        "    return pd.pivot_table(data, values=[values], index=index, columns=columns,)[values]\n",
        "\n",
        "\n",
        "\n",
        "def create_data(train, items, shops, cats, arguments):\n",
        "      '''Input: raw data consisting of dataframes train, items, shops and categories.\n",
        "      Return: final time series data to be fed into the model'''\n",
        "      \n",
        "      lag_length = arguments.lag_length\n",
        "      \n",
        "      # This additional row (a dummy record) will later trigger building our test set as we move along.\n",
        "      train = train.append(pd.DataFrame([[34, 25, 2552, 0.0, 0.0]], columns=list(train.columns)))\n",
        "\n",
        "\n",
        "      # Building the base data for item count sale records - We downsample by aggregating target records to the monthly level   \n",
        "      # Clip the sale record as instructed by competition evaluation rule\n",
        "      data_cnt = train.groupby(['date_block_num','shop_id', 'item_id'])['item_cnt_day'].sum().clip(0,20)\n",
        "      data_cnt = data_cnt.reset_index()\n",
        "\n",
        "      data = pivot(data_cnt, 'item_cnt_day', 'date_block_num', ['shop_id', 'item_id'])\n",
        "      data = data.fillna(0.0)\n",
        "      data_cnt = data.stack(['item_id', 'shop_id']).reset_index()\n",
        "      data_cnt.rename(columns={0: 'item_cnt_month'}, inplace=True)\n",
        "\n",
        "      data_cnt = data_cnt.merge(items, how='left', on='item_id')\n",
        "      data_cnt = data_cnt.merge(shops, how='left', on='shop_id')\n",
        "      data_cnt = data_cnt.merge(cats, how='left', on='item_category_id')\n",
        "\n",
        "      # We now start to gradually build the dataset from low to high granularity\n",
        "\n",
        "      # Dataset I - Item Count-monthly\n",
        "      data = pivot(data_cnt, 'item_cnt_month', 'date_block_num', ['shop_id', 'item_id'])\n",
        "      Merged = prep_dataset(data, lag_length, lag_name='cnt_shop_item', with_label=True)\n",
        "\n",
        "      Merged = pd.merge(Merged, items, how='left', on='item_id')\n",
        "      Merged = pd.merge(Merged, cats, how='left', on='item_category_id')\n",
        "      Merged = pd.merge(Merged, shops, how='left', on='shop_id')\n",
        "\n",
        "      # Downcast to save memory\n",
        "      Merged = Merged.astype({'shop_id': 'int8',\n",
        "                              'item_id': 'int16',\n",
        "                              'month_of_pred':'int8',\n",
        "                              'year_of_pred':'int16',\n",
        "                              'label':'float16',\n",
        "                              'item_category_id':'int8',\n",
        "                              'city_code':'int8',\n",
        "                              'subtype_code':'int8',\n",
        "                              'type_code':'int8'\n",
        "                              })\n",
        "            \n",
        "      # Part II\n",
        "      data = data_cnt.set_index(['date_block_num', 'item_id', 'shop_id'])['item_cnt_month']\n",
        "      data = data.groupby(['date_block_num']).transform('mean').reset_index()\n",
        "      data = pivot(data, 'item_cnt_month', 'date_block_num', ['shop_id', 'item_id'])\n",
        "      data = prep_dataset(data, lag_length, lag_name='cnt_date', with_label=False)\n",
        "\n",
        "      Merged = pd.merge(Merged, data, how='left', on=['year_of_pred', 'month_of_pred', 'shop_id', 'item_id'])\n",
        "\n",
        "      # Part III\n",
        "      data = data_cnt.set_index(['date_block_num', 'item_id', 'shop_id'])['item_cnt_month']\n",
        "      data = data.groupby(['date_block_num', 'item_id']).transform('mean').reset_index()\n",
        "      data = pivot(data, 'item_cnt_month', 'date_block_num', ['shop_id', 'item_id'])\n",
        "      data = prep_dataset(data, lag_length, lag_name='cnt_date_item', with_label=False)\n",
        "      \n",
        "      Merged = pd.merge(Merged, data, how='left', on=['year_of_pred', 'month_of_pred', 'shop_id', 'item_id'])\n",
        "      \n",
        "      # Part IV \n",
        "      data = data_cnt.set_index(['date_block_num', 'item_id', 'shop_id'])['item_cnt_month']\n",
        "      data = data.groupby(['date_block_num', 'shop_id']).transform('mean').reset_index()\n",
        "      data = pivot(data, 'item_cnt_month', 'date_block_num', ['shop_id', 'item_id'])\n",
        "      data = prep_dataset(data, lag_length, lag_name='cnt_date_shop', with_label=False)\n",
        "\n",
        "      Merged = pd.merge(Merged, data, how='left', on=['year_of_pred', 'month_of_pred', 'shop_id', 'item_id'])\n",
        "\n",
        "      # Part V\n",
        "      data = data_cnt.set_index(['date_block_num', 'item_id', 'shop_id', 'item_category_id'])['item_cnt_month']\n",
        "      data = data.groupby(['date_block_num', 'item_category_id']).transform('mean').reset_index()\n",
        "      data = pivot(data, 'item_cnt_month', 'date_block_num', ['shop_id', 'item_id'])\n",
        "      data = prep_dataset(data, lag_length, lag_name='cnt_date_item_cat', with_label=False)\n",
        "      Merged = pd.merge(Merged, data, how='left', on=['year_of_pred', 'month_of_pred', 'shop_id', 'item_id'])\n",
        "      \n",
        "      # Part VI\n",
        "      data = data_cnt.set_index(['date_block_num', 'item_id', 'shop_id', 'item_category_id'])['item_cnt_month']\n",
        "      data = data.groupby(['date_block_num', 'shop_id', 'item_category_id']).transform('mean').reset_index()\n",
        "      data = pivot(data, 'item_cnt_month', 'date_block_num', ['shop_id', 'item_id'])\n",
        "      data = prep_dataset(data, lag_length, lag_name='cnt_date_shop_cat', lags=[7,8,9], with_label=False)\n",
        "      Merged = pd.merge(Merged, data, how='left', on=['year_of_pred', 'month_of_pred', 'shop_id', 'item_id'])\n",
        "\n",
        "      # Part VII\n",
        "      data = data_cnt.set_index(['date_block_num', 'item_id', 'shop_id', 'type_code'])['item_cnt_month']\n",
        "      data = data.groupby(['date_block_num', 'shop_id', 'type_code']).transform('mean').reset_index()\n",
        "      data = pivot(data, 'item_cnt_month', 'date_block_num', ['shop_id', 'item_id'])\n",
        "      data = prep_dataset(data, lag_length, lag_name='cnt_date_shop_cat_type', lags=[7,10,11], with_label=False)\n",
        "\n",
        "      Merged = pd.merge(Merged, data, how='left', on=['year_of_pred', 'month_of_pred', 'shop_id', 'item_id'])\n",
        "\n",
        "      # Part VIII\n",
        "      data = data_cnt.set_index(['date_block_num', 'item_id', 'shop_id', 'subtype_code'])['item_cnt_month']\n",
        "      data = data.groupby(['date_block_num', 'shop_id', 'subtype_code']).transform('mean').reset_index()\n",
        "      data = pivot(data, 'item_cnt_month', 'date_block_num', ['shop_id', 'item_id'])\n",
        "      data = prep_dataset(data, lag_length, lag_name='cnt_date_shop_cat_subtype', lags=[7,8,9,10,11], with_label=False)\n",
        "      \n",
        "      Merged = pd.merge(Merged, data, how='left', on=['year_of_pred', 'month_of_pred', 'shop_id', 'item_id'])\n",
        "\n",
        "      # Part IX\n",
        "      data = data_cnt.set_index(['date_block_num', 'item_id', 'shop_id', 'city_code'])['item_cnt_month']\n",
        "      data = data.groupby(['date_block_num', 'city_code']).transform('mean').reset_index()\n",
        "      data = pivot(data, 'item_cnt_month', 'date_block_num', ['shop_id', 'item_id'])\n",
        "      data = prep_dataset(data, lag_length, lag_name='cnt_date_city', lags= [9,10,11,12], with_label=False)\n",
        "\n",
        "      Merged = pd.merge(Merged, data, how='left', on=['year_of_pred', 'month_of_pred', 'shop_id', 'item_id'])\n",
        "\n",
        "      # Part X\n",
        "      data = data_cnt.set_index(['date_block_num', 'item_id', 'shop_id', 'city_code'])['item_cnt_month']\n",
        "      data = data.groupby(['date_block_num', 'item_id', 'city_code']).transform('mean').reset_index()\n",
        "      data = pivot(data, 'item_cnt_month', 'date_block_num', ['shop_id', 'item_id'])\n",
        "      data = prep_dataset(data, lag_length, lag_name='cnt_date_item_city', lags=[6,7,8,9,10,11,12], with_label=False)\n",
        "\n",
        "      Merged = pd.merge(Merged, data, how='left', on=['year_of_pred', 'month_of_pred', 'shop_id', 'item_id'])\n",
        "\n",
        "      # Part XI\n",
        "      # data = data_cnt.set_index(['date_block_num', 'item_id', 'shop_id', 'city_code'])['item_cnt_month']\n",
        "      # data = data.groupby(['date_block_num', 'item_id', 'city_code']).transform('mean').reset_index()\n",
        "      # data = pivot(data, 'item_cnt_month', 'date_block_num', ['shop_id', 'item_id'])\n",
        "      # data = prep_dataset(data, lag_length, lag_name='cnt_date_item_city', with_label=False)\n",
        "\n",
        "      # Merged = pd.merge(Merged, data, how='left', on=['year_of_pred', 'month_of_pred', 'shop_id', 'item_id'])\n",
        "\n",
        "      # Part XII\n",
        "\n",
        "      data = data_cnt.set_index(['date_block_num', 'item_id', 'shop_id', 'type_code'])['item_cnt_month']\n",
        "      data = data.groupby(['date_block_num', 'type_code']).transform('mean').reset_index()\n",
        "      data = pivot(data, 'item_cnt_month', 'date_block_num', ['shop_id', 'item_id'])\n",
        "      data = prep_dataset(data, lag_length, lag_name='cnt_date_type', lags=[3,4,11,12], with_label=False)\n",
        "\n",
        "      Merged = pd.merge(Merged, data, how='left', on=['year_of_pred', 'month_of_pred', 'shop_id', 'item_id'])\n",
        "\n",
        "      # Part XIII\n",
        "\n",
        "      data = data_cnt.set_index(['date_block_num', 'item_id', 'shop_id', 'subtype_code'])['item_cnt_month']\n",
        "      data = data.groupby(['date_block_num', 'subtype_code']).transform('mean').reset_index()\n",
        "      data = pivot(data, 'item_cnt_month', 'date_block_num', ['shop_id', 'item_id'])\n",
        "      data = prep_dataset(data, lag_length, lag_name='cnt_date_subtype', with_label=False)\n",
        "\n",
        "      del data_cnt\n",
        "\n",
        "      Merged = pd.merge(Merged, data, how='left', on=['year_of_pred', 'month_of_pred', 'shop_id', 'item_id'])\n",
        "\n",
        "      # Base data for price records\n",
        "\n",
        "      data_price = train.groupby(['date_block_num','shop_id', 'item_id'])['item_price'].mean() #Average price in month at item-shop level\n",
        "      data_price = data_price.reset_index()\n",
        "      data = pivot(data_price, 'item_price', 'date_block_num', ['shop_id', 'item_id'])\n",
        "      data = data.ffill()\n",
        "      data = data.bfill()\n",
        "      data_price = data.stack(['item_id', 'shop_id']).reset_index()\n",
        "      data_price = data_price.merge(items, how='left', on='item_id')\n",
        "      data_price.rename(columns={0:'avg_price_month'}, inplace=True)\n",
        "\n",
        "      # Release some memory\n",
        "      del train\n",
        "      del items\n",
        "      del shops\n",
        "      del cats\n",
        "      \n",
        "      # Part XIV \n",
        "\n",
        "      data = data_price.set_index(['date_block_num', 'item_id', 'shop_id'])['avg_price_month']\n",
        "      data = data.groupby(['item_id']).transform('mean').reset_index()\n",
        "      avg_item_price_whole_data = pivot(data, 'avg_price_month', 'date_block_num', ['shop_id', 'item_id'])\n",
        "\n",
        "      data = data_price.set_index(['date_block_num', 'item_id', 'shop_id'])['avg_price_month']\n",
        "      data = data.groupby(['date_block_num', 'item_id']).transform('mean').reset_index()\n",
        "      avg_item_price_monthly = pivot(data, 'avg_price_month', 'date_block_num', ['shop_id', 'item_id'])\n",
        "\n",
        "      data = (avg_item_price_monthly - avg_item_price_whole_data)/avg_item_price_whole_data\n",
        "\n",
        "      del avg_item_price_monthly\n",
        "      del avg_item_price_whole_data\n",
        "      gc.collect()\n",
        "\n",
        "      data = prep_dataset(data, lag_length, lag_name='Avg_price_item', with_label=False)\n",
        "      Merged = pd.merge(Merged, data, how='left', on=['year_of_pred', 'month_of_pred', 'shop_id', 'item_id'])\n",
        "\n",
        "      # Part XV\n",
        "\n",
        "      data = data_price.set_index(['date_block_num', 'item_id', 'shop_id', 'item_category_id'])['avg_price_month']\n",
        "      data = data.groupby(['date_block_num', 'shop_id', 'item_category_id']).transform('sum').reset_index()\n",
        "      price_cat_shop = pivot(data, 'avg_price_month', 'date_block_num', ['shop_id', 'item_id'])\n",
        "      \n",
        "      data = data_price.set_index(['date_block_num', 'item_id', 'shop_id'])['avg_price_month']\n",
        "      data = data.groupby(['date_block_num', 'shop_id', 'item_id']).transform('mean').reset_index()\n",
        "      price_item_shop = pivot(data, 'avg_price_month', 'date_block_num', ['shop_id', 'item_id'])\n",
        "      data = price_item_shop/price_cat_shop\n",
        "      \n",
        "      del price_cat_shop\n",
        "\n",
        "      data = prep_dataset(data, lag_length, lag_name='item_price_percnt',lags=[7,8,9,10,11], with_label=False)\n",
        "      Merged = pd.merge(Merged, data, how='left', on=['year_of_pred', 'month_of_pred', 'shop_id', 'item_id'])\n",
        "      \n",
        "      # Part XVI\n",
        "\n",
        "      diff_price = price_item_shop - price_item_shop.shift(1)\n",
        "      data = diff_price[1:]/price_item_shop.shift(1)\n",
        "      data = data.fillna(0.0)\n",
        "      data = prep_dataset(data, lag_length, lag_name='item_price_discount', lags=[2,3,4,5,6,7,8,9,10,11,12], with_label=False)\n",
        "\n",
        "      del diff_price\n",
        "      del data_price\n",
        "      del price_item_shop\n",
        "      gc.collect()\n",
        "\n",
        "      Merged = pd.merge(Merged, data, how='left', on=['year_of_pred', 'month_of_pred', 'shop_id', 'item_id'])\n",
        "\n",
        "      #Add days in the month of prediction- and, number of month of prediction\n",
        "      my = pd.concat([pd.DataFrame({'month_of_pred': np.arange(1,13),'year_of_pred' : [2013]*12}),\n",
        "                      pd.DataFrame({'month_of_pred': np.arange(1,13),'year_of_pred' : [2014]*12}),\n",
        "                      pd.DataFrame({'month_of_pred': np.arange(1,12),'year_of_pred' : [2015]*11})],\n",
        "                                    axis=0, ignore_index=True)\n",
        "      my['days'] = my.apply(lambda x:pd.Timestamp(x[1],x[0],1,0).days_in_month, axis=1)\n",
        "      my = my.reset_index().rename(columns={'index':'month_num_pred'},)\n",
        "      Merged = pd.merge(Merged, my, how='left', on=['month_of_pred', 'year_of_pred'])\n",
        "\n",
        "      #drop = ['type_code', 'year_of_pred']\n",
        "      #Merged.drop(drop, axis=1, inplace=True)\n",
        "\n",
        "      return Merged\n"
      ],
      "execution_count": null,
      "outputs": [
        {
          "output_type": "stream",
          "text": [
            "Writing custom/trainer/utils.py\n"
          ],
          "name": "stdout"
        }
      ]
    },
    {
      "cell_type": "markdown",
      "metadata": {
        "id": "8zl21nPHyREK"
      },
      "source": [
        "#### Download data from Kaggle"
      ]
    },
    {
      "cell_type": "markdown",
      "metadata": {
        "id": "PopRqNn3TgrU"
      },
      "source": [
        "To download data from Kaggle platform, we use Kaggle API via command line. However, for this to work, you need to have a `kaggle.json` file ready in the working directory. This file can be generated using your kaggle account."
      ]
    },
    {
      "cell_type": "code",
      "metadata": {
        "colab": {
          "base_uri": "https://localhost:8080/"
        },
        "id": "DZ4ot26kVEtq",
        "outputId": "2d0fed4f-166f-4366-ec46-dacb11c46b25"
      },
      "source": [
        "%%shell\n",
        "pip install kaggle --upgrade -q\n",
        "mkdir -p /root/.kaggle\n",
        "cp ./kaggle.json /root/.kaggle/\n",
        "kaggle competitions download -q competitive-data-science-predict-future-sales -p ./data/"
      ],
      "execution_count": null,
      "outputs": [
        {
          "output_type": "stream",
          "text": [
            "Warning: Your Kaggle API key is readable by other users on this system! To fix this, you can run 'chmod 600 /root/.kaggle/kaggle.json'\n",
            "Warning: Looks like you're using an outdated API Version, please consider updating (server 1.5.12 / client 1.5.4)\n"
          ],
          "name": "stdout"
        },
        {
          "output_type": "execute_result",
          "data": {
            "text/plain": [
              ""
            ]
          },
          "metadata": {
            "tags": []
          },
          "execution_count": 22
        }
      ]
    },
    {
      "cell_type": "markdown",
      "metadata": {
        "id": "maot8YQVSgiI"
      },
      "source": [
        "#### Store training script and data on your Cloud Storage bucket\n",
        "\n",
        "Next, package the training folder into a compressed tarball, and then store it in your Cloud Storage bucket."
      ]
    },
    {
      "cell_type": "code",
      "metadata": {
        "colab": {
          "base_uri": "https://localhost:8080/"
        },
        "id": "-cQeB2MRwpuz",
        "outputId": "b4644b3d-5498-4243-e72c-7990188ad9bc"
      },
      "source": [
        "! rm -f custom.tar custom.tar.gz\n",
        "! tar cvf custom.tar custom\n",
        "! gzip custom.tar\n",
        "! gsutil cp custom.tar.gz gs://$BUCKET_NAME/trainer_xgb.tar.gz\n",
        "! gsutil -m cp -r ./data gs://$BUCKET_NAME/data"
      ],
      "execution_count": null,
      "outputs": [
        {
          "output_type": "stream",
          "text": [
            "custom/\n",
            "custom/README.md\n",
            "custom/setup.py\n",
            "custom/PKG-INFO\n",
            "custom/trainer/\n",
            "custom/trainer/model.py\n",
            "custom/trainer/__init__.py\n",
            "custom/trainer/utils.py\n",
            "custom/trainer/task.py\n",
            "custom/setup.cfg\n",
            "Copying file://custom.tar.gz [Content-Type=application/x-tar]...\n",
            "/ [1 files][  6.0 KiB/  6.0 KiB]                                                \n",
            "Operation completed over 1 objects/6.0 KiB.                                      \n",
            "Copying file://./data/sample_submission.csv.zip [Content-Type=application/zip]...\n",
            "Copying file://./data/sales_train.csv.zip [Content-Type=application/zip]...\n",
            "Copying file://./data/item_categories.csv [Content-Type=text/csv]...\n",
            "Copying file://./data/shops.csv [Content-Type=text/csv]...\n",
            "Copying file://./data/test.csv.zip [Content-Type=application/zip]...\n",
            "Copying file://./data/items.csv.zip [Content-Type=application/zip]...\n",
            "/ [6/6 files][ 15.1 MiB/ 15.1 MiB] 100% Done                                    \n",
            "Operation completed over 6 objects/15.1 MiB.                                     \n"
          ],
          "name": "stdout"
        }
      ]
    },
    {
      "cell_type": "markdown",
      "metadata": {
        "id": "HSCCg_1ISgiH"
      },
      "source": [
        "## Train the model:\n",
        "\n",
        "There are two ways you can train a custom model using a container image:\n",
        "\n",
        "- **Use a an AI Platform pre-built container**. If you use a pre-built container, you will additionally specify a Python package to install into the container image. This Python package contains your code for training a custom model.\n",
        "\n",
        "- **Use your own custom container image**. If you use your own container, the container needs to contain your code for training a custom model.\n",
        "\n",
        "\n",
        "We will train our model using a pre-built container. We need to update the worker pool specification by adding a description for `python_package_spec`. This section will tell the custom job the Python training package to install and which Python module to invoke, along with command line arguments for the Python module.\n",
        "\n",
        "The Python package specification contains the following fields:\n",
        "\n",
        "-`executor_image_spec`: This is the Docker image which is configured for your custom training job. You will continue to use the same one we used earlier for demonstration.\n",
        "\n",
        "-`package_uris`: This is a list of the locations (URIs) of your Python training packages to install on the provisioned instance. The locations need to be in a Cloud Storage bucket. These can be either individual Python files or a zip (archive) of an entire package. In the later case, the job service will unzip (unarchive) the contents into the Docker container.\n",
        "\n",
        "-`python_module`: The Python module (script) to invoke for running the custom training job. In this example, you will be invoking `trainer.task.py` -- note that it was not neccessary to append the `.py` suffix.\n",
        "\n",
        "-`args`: The command line arguments to pass to the corresponding python module such as parameter for xgboost model."
      ]
    },
    {
      "cell_type": "markdown",
      "metadata": {
        "id": "4rYKlWaYSgiF"
      },
      "source": [
        "### Define the worker pool specification\n",
        "\n",
        "\n",
        "Next, you define the worker pool specification for your custom training job. This tells AI Platform what type and how many VMs to provision for the training.\n",
        "\n",
        "For this tutorial, we will use a single instance (node). \n",
        "\n",
        "- `replica_count`: The number of VMs to provision of this machine type.\n",
        "- `machine_type`: The type of VM to provision -- e.g., n1-standard-8.\n",
        "- `container_spec`: The Docker container to install on the instances."
      ]
    },
    {
      "cell_type": "markdown",
      "metadata": {
        "id": "K88kJwFqKZ7i"
      },
      "source": [
        "We use a single machine for our training. Add more worker pools to configure worker replicas, parameter server replicas, or evaluator replicas, if your machine learning framework supports these additional cluster tasks for distributed training.For larger datasets, one may want to use the built-in distributed XGBoost algorithsm on AI Platform such as [Training using the built-in distributed XGBoost algorithm](https://cloud.google.com/ai-platform/training/docs/algorithms/distributed-xgboost) without writing any code! The built-in distributed XGBoost algorithm supports using a single GPU per virtual machine for training."
      ]
    },
    {
      "cell_type": "code",
      "metadata": {
        "id": "m3jJ_3MaSgiH"
      },
      "source": [
        "machine_spec = {\"machine_type\": TRAIN_COMPUTE, \"accelerator_count\": 0}\n",
        "\n",
        "WORKER_POOL_SPEC=[\n",
        "     {\n",
        "        \"replica_count\": 1,\n",
        "        \"machine_spec\": machine_spec,\n",
        "        \"python_package_spec\": {\n",
        "            \"executor_image_uri\": TRAIN_IMAGE,\n",
        "            \"package_uris\": [\"gs://\" + BUCKET_NAME + \"/trainer_xgb.tar.gz\"],\n",
        "            \"python_module\": \"trainer.task\",\n",
        "            \"args\": ['--num_boost_round=200',\n",
        "                     '--learning_rate=0.06',\n",
        "                     '--eta=0.3',\n",
        "                     '--max_depth=8',\n",
        "                     '--min_child_weight=800',\n",
        "                     '--num_parallel_tree=10',\n",
        "                     '--subsample=0.8',\n",
        "                     '--split_to_train_val=0',\n",
        "                     '--lag_length=12',\n",
        "                     ],\n",
        "      }},\n",
        "]"
      ],
      "execution_count": null,
      "outputs": []
    },
    {
      "cell_type": "markdown",
      "metadata": {
        "id": "ZAm3kBwjSgiG"
      },
      "source": [
        "### Get information on a custom job\n",
        "\n",
        "Next, use this helper function `get_custom_job`, which takes the following parameter:\n",
        "\n",
        "- `name`: The AI Platform fully qualified identifier for the `CustomJob`.\n",
        "\n",
        "The helper function gets the job information for just this job by calling the the job client service's `get_custom_job` method, with the following parameter:\n",
        "\n",
        "- `name`: The AI Platform fully qualified identifier for the `CustomJob`.\n",
        "\n",
        "Recall that you got the AI Platform fully qualified identifier for the custom job in the `response.name` field when you called the `create_custom_job` method, and you saved the identifier in the variable `JOB_ID`."
      ]
    },
    {
      "cell_type": "markdown",
      "metadata": {
        "id": "HFokW7VXSgiI"
      },
      "source": [
        "### Assemble a job specification\n",
        "\n",
        "Now assemble the description for the `CustomJob` specification:\n",
        "\n",
        "- `display_name`: The human-readable name you assign to this `CustomJob`.\n",
        "- `job_spec`: The specification for the `CustomJob`. "
      ]
    },
    {
      "cell_type": "code",
      "metadata": {
        "id": "bOsiAl6USgiI"
      },
      "source": [
        "JOB_NAME = \"custom_job_\" + TIMESTAMP\n",
        "MODEL_DIR = \"gs://{}/{}\".format(BUCKET_NAME, JOB_NAME)\n",
        "\n",
        "JOB_SPEC = {\"worker_pool_specs\": WORKER_POOL_SPEC}\n",
        "CUSTOM_JOB = {\"display_name\": JOB_NAME, \"job_spec\": JOB_SPEC}"
      ],
      "execution_count": null,
      "outputs": []
    },
    {
      "cell_type": "markdown",
      "metadata": {
        "id": "KneOUPAPSgiF"
      },
      "source": [
        "## Train the model\n",
        "\n",
        "Start the training of our custom training job on AI Platform. Use this helper function `create_custom_job`, which takes the following parameter:\n",
        "\n",
        "- `custom_job`: The specification for the `CustomJob`.\n",
        "\n",
        "The helper function calls the job client service's `create_custom_job` method, with the following parameters:\n",
        "\n",
        "- `parent`: The AI Platform location path to `Dataset`, `Model` and `Endpoint` resources.\n",
        "- `custom_job`: The specification for the `CustomJob`.\n",
        "\n",
        "- `response.name`: The AI Platform fully qualified identifier assigned to this `CustomJob`. Save this identifier for using in subsequent steps.\n",
        "- `response.state`: The current state of the `CustomJob`. "
      ]
    },
    {
      "cell_type": "code",
      "metadata": {
        "colab": {
          "base_uri": "https://localhost:8080/"
        },
        "id": "ASJMKYbqWmn3",
        "outputId": "888a95a8-23d9-4ebe-d234-566c9628a407"
      },
      "source": [
        "def create_custom_job(custom_job):\n",
        "    response = clients[\"job\"].create_custom_job(parent=PARENT, custom_job=CUSTOM_JOB)\n",
        "    print(\"name:\", response.name)\n",
        "    print(\"display_name:\", response.display_name)\n",
        "    print(\"state:\", response.state)\n",
        "    print(\"create_time:\", response.create_time)\n",
        "    print(\"update_time:\", response.update_time)\n",
        "    return response.name\n",
        "\n",
        "# Save the job name\n",
        "JOB_ID = create_custom_job(CUSTOM_JOB)"
      ],
      "execution_count": null,
      "outputs": [
        {
          "output_type": "stream",
          "text": [
            "name: projects/31686203895/locations/us-central1/customJobs/7739862570147774464\n",
            "display_name: custom_job_20210607152140\n",
            "state: JobState.JOB_STATE_PENDING\n",
            "create_time: 2021-06-07 15:53:27.914248+00:00\n",
            "update_time: 2021-06-07 15:53:27.914248+00:00\n"
          ],
          "name": "stdout"
        }
      ]
    },
    {
      "cell_type": "markdown",
      "metadata": {
        "id": "bIOze06sZnBB"
      },
      "source": [
        "Use the follwing helper function to obtain info about the status of the custom job:"
      ]
    },
    {
      "cell_type": "code",
      "metadata": {
        "id": "12-F6ZOYSgiG",
        "colab": {
          "base_uri": "https://localhost:8080/"
        },
        "outputId": "36e5515c-f3e2-4876-c46c-b7099d5bc37d"
      },
      "source": [
        "def get_custom_job(name, silent=False):\n",
        "    response = clients[\"job\"].get_custom_job(name=name)\n",
        "    if silent:\n",
        "        return response\n",
        "\n",
        "    print(\"name:\", response.name)\n",
        "    print(\"display_name:\", response.display_name)\n",
        "    print(\"state:\", response.state)\n",
        "    print(\"create_time:\", response.create_time)\n",
        "    print(\"update_time:\", response.update_time)\n",
        "    return response\n",
        "\n",
        "get_custom_job(JOB_ID)"
      ],
      "execution_count": null,
      "outputs": [
        {
          "output_type": "stream",
          "text": [
            "name: projects/31686203895/locations/us-central1/customJobs/1084949695777734656\n",
            "display_name: custom_job_20210606155042\n",
            "state: JobState.JOB_STATE_PENDING\n",
            "create_time: 2021-06-07 03:20:43.513513+00:00\n",
            "update_time: 2021-06-07 03:20:43.955212+00:00\n"
          ],
          "name": "stdout"
        },
        {
          "output_type": "execute_result",
          "data": {
            "text/plain": [
              "name: \"projects/31686203895/locations/us-central1/customJobs/1084949695777734656\"\n",
              "display_name: \"custom_job_20210606155042\"\n",
              "job_spec {\n",
              "  worker_pool_specs {\n",
              "    machine_spec {\n",
              "      machine_type: \"n1-highmem-8\"\n",
              "    }\n",
              "    replica_count: 1\n",
              "    disk_spec {\n",
              "      boot_disk_type: \"pd-ssd\"\n",
              "      boot_disk_size_gb: 100\n",
              "    }\n",
              "    python_package_spec {\n",
              "      executor_image_uri: \"gcr.io/cloud-aiplatform/training/xgboost-cpu.1-1\"\n",
              "      package_uris: \"gs://myproject1051321/trainer_xgb.tar.gz\"\n",
              "      python_module: \"trainer.task\"\n",
              "      args: \"--num_boost_round=200\"\n",
              "      args: \"--learning_rate=0.06\"\n",
              "      args: \"--eta=0.3\"\n",
              "      args: \"--max_depth=8\"\n",
              "      args: \"--min_child_weight=800\"\n",
              "      args: \"--num_parallel_tree=1\"\n",
              "      args: \"--subsample=0.8\"\n",
              "      args: \"--split_to_train_val=1\"\n",
              "      args: \"--lag_length=12\"\n",
              "    }\n",
              "  }\n",
              "}\n",
              "state: JOB_STATE_PENDING\n",
              "create_time {\n",
              "  seconds: 1623036043\n",
              "  nanos: 513513000\n",
              "}\n",
              "start_time {\n",
              "  seconds: 1623036043\n",
              "  nanos: 704585000\n",
              "}\n",
              "update_time {\n",
              "  seconds: 1623036043\n",
              "  nanos: 955212000\n",
              "}"
            ]
          },
          "metadata": {
            "tags": []
          },
          "execution_count": 210
        }
      ]
    },
    {
      "cell_type": "markdown",
      "metadata": {
        "id": "t5bAv7CRvtb0"
      },
      "source": [
        "If a hyperparameter tuning job is being done, submit the job using the following function instead:\n"
      ]
    },
    {
      "cell_type": "code",
      "metadata": {
        "id": "PpVsKt5IBPSZ"
      },
      "source": [
        "def create_hyperparameter_tuning_job(custom_job):\n",
        "  \n",
        "    # study_spec\n",
        "    metric = {\n",
        "        \"metric_id\": \"val_mae\",\n",
        "        \"goal\": aip.StudySpec.MetricSpec.GoalType.MINIMIZE,\n",
        "    }\n",
        "\n",
        "    parameter = {\n",
        "            \"parameter_id\": \"learning_rate\",\n",
        "            \"double_value_spec\": {\"min_value\": 0.05, \"max_value\": 0.1},\n",
        "            \"scale_type\": aip.StudySpec.ParameterSpec.ScaleType.UNIT_LINEAR_SCALE,\n",
        "    }\n",
        "\n",
        "    # hyperparameter_tuning_job\n",
        "    hyperparameter_tuning_job = {\n",
        "        \"display_name\": custom_job['display_name'],\n",
        "        \"max_trial_count\": 4,\n",
        "        \"parallel_trial_count\": 2,\n",
        "        \"study_spec\": {\n",
        "            \"metrics\": [metric],\n",
        "            \"parameters\": [parameter],\n",
        "            \"algorithm\": aip.StudySpec.Algorithm.RANDOM_SEARCH,\n",
        "        },\n",
        "        \"trial_job_spec\": {\"worker_pool_specs\": custom_job['worker_pool_specs']},\n",
        "    }\n",
        "\n",
        "    response = clients['job'].create_hyperparameter_tuning_job(\n",
        "        parent=PARENT, hyperparameter_tuning_job=hyperparameter_tuning_job\n",
        "\n",
        "    )\n",
        "    print(\"response:\", response)\n",
        "\n",
        "CUSTOM_JOB = {\"display_name\": JOB_NAME, \"worker_pool_specs\": WORKER_POOL_SPEC}\n",
        "create_hyperparameter_tuning_job(CUSTOM_JOB)"
      ],
      "execution_count": null,
      "outputs": []
    },
    {
      "cell_type": "markdown",
      "metadata": {
        "id": "LxjO0Ol1SgiJ"
      },
      "source": [
        "# Deployment\n",
        "\n",
        "Once our model is done training, we can calculate the actual time it took to train the model by subtracting `start_time` from `end_time`. However, we need to know the location of the SavedModel, which the Python script saved in the Cloud Storage bucket at `MODEL_DIR + '/saved_model.pb'`.\n"
      ]
    },
    {
      "cell_type": "code",
      "metadata": {
        "id": "QilLK-Z1SgiK",
        "colab": {
          "base_uri": "https://localhost:8080/"
        },
        "outputId": "17880a2a-3b51-4a8c-87e4-d440ca078ebb"
      },
      "source": [
        "while True:\n",
        "    DIRECT=True\n",
        "    response = get_custom_job(JOB_ID, True)\n",
        "    if response.state != aip.JobState.JOB_STATE_SUCCEEDED:\n",
        "        print(\"Training job has not completed:\", response.state)\n",
        "        model_path_to_deploy = None\n",
        "        if response.state == aip.JobState.JOB_STATE_FAILED:\n",
        "            break\n",
        "    else:\n",
        "        if not DIRECT:\n",
        "            MODEL_DIR = MODEL_DIR + \"/model\"\n",
        "        model_path_to_deploy = MODEL_DIR\n",
        "        print(\"Training Time:\", response.update_time - response.create_time)\n",
        "        break\n",
        "    time.sleep(60)\n",
        "\n",
        "print(\"model_to_deploy:\", model_path_to_deploy)"
      ],
      "execution_count": null,
      "outputs": [
        {
          "output_type": "stream",
          "text": [
            "Training Time: 0:18:20.815466\n",
            "model_to_deploy: gs://myproject1051321/custom_job_20210603191500\n"
          ],
          "name": "stdout"
        }
      ]
    },
    {
      "cell_type": "markdown",
      "metadata": {
        "id": "4yAXGLKqSgiK"
      },
      "source": [
        "## Load the saved model\n",
        "\n",
        "Our model is stored in a Cloud Storage bucket. We download it to our notebook here in order to evaluate the model and get a prediction.\n",
        "\n",
        "To load the model, use the `tf.keras.models.load_model()` method, passing it the Cloud Storage path where the model is saved -- specified by `MODEL_DIR`."
      ]
    },
    {
      "cell_type": "code",
      "metadata": {
        "id": "RYoLu47uqmR3"
      },
      "source": [
        "import matplotlib.pyplot as plt"
      ],
      "execution_count": null,
      "outputs": []
    },
    {
      "cell_type": "markdown",
      "metadata": {
        "id": "C71k9ZmtLrSJ"
      },
      "source": [
        "Let's make sure the version of xgboost installed in this notebook is the same as the version we trained the model with before we try to load the model. "
      ]
    },
    {
      "cell_type": "code",
      "metadata": {
        "colab": {
          "base_uri": "https://localhost:8080/",
          "height": 54
        },
        "id": "3wdsRmrPQYx5",
        "outputId": "cf7cdbe3-be63-49a7-fcf2-1a0014a2f2ea"
      },
      "source": [
        "import xgboost as xgb\n",
        "xgb.__version__"
      ],
      "execution_count": null,
      "outputs": [
        {
          "output_type": "stream",
          "text": [
            "INFO:numexpr.utils:NumExpr defaulting to 2 threads.\n"
          ],
          "name": "stdout"
        },
        {
          "output_type": "execute_result",
          "data": {
            "application/vnd.google.colaboratory.intrinsic+json": {
              "type": "string"
            },
            "text/plain": [
              "'1.1.0'"
            ]
          },
          "metadata": {
            "tags": []
          },
          "execution_count": 31
        }
      ]
    },
    {
      "cell_type": "code",
      "metadata": {
        "id": "iUwn1X3JSgiK",
        "colab": {
          "base_uri": "https://localhost:8080/"
        },
        "outputId": "9e2458f8-db00-400c-814f-873024832a67"
      },
      "source": [
        "# download the model from GCS\n",
        "!gsutil -m cp -r gs://myproject1051321/custom_job_20210516013132/ ."
      ],
      "execution_count": null,
      "outputs": [
        {
          "output_type": "stream",
          "text": [
            "Copying gs://myproject1051321/custom_job_20210516013132/model...\n",
            "Copying gs://myproject1051321/custom_job_20210516013132/test.pkl...\n",
            "\\ [2/2 files][126.1 MiB/126.1 MiB] 100% Done                                    \n",
            "Operation completed over 2 objects/126.1 MiB.                                    \n"
          ],
          "name": "stdout"
        }
      ]
    },
    {
      "cell_type": "markdown",
      "metadata": {
        "id": "kk4ERdr8MFGo"
      },
      "source": [
        "Now load the model:"
      ]
    },
    {
      "cell_type": "code",
      "metadata": {
        "id": "FOg5P34iD0dU"
      },
      "source": [
        "import pickle\n",
        "model = xgb.Booster()\n",
        "#model.load_model('/content/custom_job_20210516013132/model')\n",
        "model= pickle.load(open('/content/custom_job_20210516013132/model', 'rb'))"
      ],
      "execution_count": null,
      "outputs": []
    },
    {
      "cell_type": "code",
      "metadata": {
        "colab": {
          "base_uri": "https://localhost:8080/",
          "height": 1000
        },
        "id": "PHS22Dnlqhxn",
        "outputId": "affa3a4a-bfb7-4d99-c835-cd38e17d9174"
      },
      "source": [
        "fig, ax = plt.subplots(1,2,figsize=(20,35))\n",
        "xgb.plot_importance(booster=model, ax=ax[0], importance_type='weight', show_values=False, xlabel='weight')\n",
        "xgb.plot_importance(booster=model, ax=ax[1], importance_type='gain', show_values=False, xlabel='gain')\n"
      ],
      "execution_count": null,
      "outputs": [
        {
          "output_type": "execute_result",
          "data": {
            "text/plain": [
              "<matplotlib.axes._subplots.AxesSubplot at 0x7f2c9e6cf0d0>"
            ]
          },
          "metadata": {
            "tags": []
          },
          "execution_count": 37
        },
        {
          "output_type": "display_data",
          "data": {
            "image/png": "[encoded data removed]",
            "text/plain": [
              "<Figure size 1440x2520 with 2 Axes>"
            ]
          },
          "metadata": {
            "tags": [],
            "needs_background": "light"
          }
        }
      ]
    },
    {
      "cell_type": "markdown",
      "metadata": {
        "id": "nANIAwBbMLQu"
      },
      "source": [
        "The test set was prepared as part of the trining set and was saved separetely in our bucket. It. is now downloaed back here. Let's prepared it and do a prediction:"
      ]
    },
    {
      "cell_type": "code",
      "metadata": {
        "colab": {
          "base_uri": "https://localhost:8080/",
          "height": 253
        },
        "id": "TdEK3kcKkbDq",
        "outputId": "dc1228f3-b97b-43f8-c35b-62c1eccd0920"
      },
      "source": [
        "import pandas as pd\n",
        "pre_test = pd.read_pickle('/content/custom_job_20210516013132/test.pkl')\n",
        "pre_test.head()"
      ],
      "execution_count": null,
      "outputs": [
        {
          "output_type": "execute_result",
          "data": {
            "text/html": [
              "<div>\n",
              "<style scoped>\n",
              "    .dataframe tbody tr th:only-of-type {\n",
              "        vertical-align: middle;\n",
              "    }\n",
              "\n",
              "    .dataframe tbody tr th {\n",
              "        vertical-align: top;\n",
              "    }\n",
              "\n",
              "    .dataframe thead th {\n",
              "        text-align: right;\n",
              "    }\n",
              "</style>\n",
              "<table border=\"1\" class=\"dataframe\">\n",
              "  <thead>\n",
              "    <tr style=\"text-align: right;\">\n",
              "      <th></th>\n",
              "      <th>shop_id</th>\n",
              "      <th>item_id</th>\n",
              "      <th>cnt_shop_item_12</th>\n",
              "      <th>cnt_shop_item_11</th>\n",
              "      <th>cnt_shop_item_10</th>\n",
              "      <th>cnt_shop_item_9</th>\n",
              "      <th>cnt_shop_item_8</th>\n",
              "      <th>cnt_shop_item_7</th>\n",
              "      <th>cnt_shop_item_6</th>\n",
              "      <th>cnt_shop_item_5</th>\n",
              "      <th>cnt_shop_item_4</th>\n",
              "      <th>cnt_shop_item_3</th>\n",
              "      <th>cnt_shop_item_2</th>\n",
              "      <th>cnt_shop_item_1</th>\n",
              "      <th>month_of_pred</th>\n",
              "      <th>year_of_pred</th>\n",
              "      <th>item_category_id</th>\n",
              "      <th>type_code</th>\n",
              "      <th>subtype_code</th>\n",
              "      <th>city_code</th>\n",
              "      <th>cnt_date_12</th>\n",
              "      <th>cnt_date_11</th>\n",
              "      <th>cnt_date_10</th>\n",
              "      <th>cnt_date_9</th>\n",
              "      <th>cnt_date_8</th>\n",
              "      <th>cnt_date_7</th>\n",
              "      <th>cnt_date_6</th>\n",
              "      <th>cnt_date_5</th>\n",
              "      <th>cnt_date_4</th>\n",
              "      <th>cnt_date_3</th>\n",
              "      <th>cnt_date_2</th>\n",
              "      <th>cnt_date_1</th>\n",
              "      <th>cnt_date_item_12</th>\n",
              "      <th>cnt_date_item_11</th>\n",
              "      <th>cnt_date_item_10</th>\n",
              "      <th>cnt_date_item_9</th>\n",
              "      <th>cnt_date_item_8</th>\n",
              "      <th>cnt_date_item_7</th>\n",
              "      <th>cnt_date_item_6</th>\n",
              "      <th>cnt_date_item_5</th>\n",
              "      <th>...</th>\n",
              "      <th>cnt_date_type_8</th>\n",
              "      <th>cnt_date_type_7</th>\n",
              "      <th>cnt_date_type_6</th>\n",
              "      <th>cnt_date_type_5</th>\n",
              "      <th>cnt_date_type_2</th>\n",
              "      <th>cnt_date_type_1</th>\n",
              "      <th>cnt_date_subtype_12</th>\n",
              "      <th>cnt_date_subtype_11</th>\n",
              "      <th>cnt_date_subtype_10</th>\n",
              "      <th>cnt_date_subtype_9</th>\n",
              "      <th>cnt_date_subtype_8</th>\n",
              "      <th>cnt_date_subtype_7</th>\n",
              "      <th>cnt_date_subtype_6</th>\n",
              "      <th>cnt_date_subtype_5</th>\n",
              "      <th>cnt_date_subtype_4</th>\n",
              "      <th>cnt_date_subtype_3</th>\n",
              "      <th>cnt_date_subtype_2</th>\n",
              "      <th>cnt_date_subtype_1</th>\n",
              "      <th>Avg_price_item_12</th>\n",
              "      <th>Avg_price_item_11</th>\n",
              "      <th>Avg_price_item_10</th>\n",
              "      <th>Avg_price_item_9</th>\n",
              "      <th>Avg_price_item_8</th>\n",
              "      <th>Avg_price_item_7</th>\n",
              "      <th>Avg_price_item_6</th>\n",
              "      <th>Avg_price_item_5</th>\n",
              "      <th>Avg_price_item_4</th>\n",
              "      <th>Avg_price_item_3</th>\n",
              "      <th>Avg_price_item_2</th>\n",
              "      <th>Avg_price_item_1</th>\n",
              "      <th>item_price_percnt_12</th>\n",
              "      <th>item_price_percnt_6</th>\n",
              "      <th>item_price_percnt_5</th>\n",
              "      <th>item_price_percnt_4</th>\n",
              "      <th>item_price_percnt_3</th>\n",
              "      <th>item_price_percnt_2</th>\n",
              "      <th>item_price_percnt_1</th>\n",
              "      <th>item_price_discount_1</th>\n",
              "      <th>month_num_pred</th>\n",
              "      <th>days</th>\n",
              "    </tr>\n",
              "  </thead>\n",
              "  <tbody>\n",
              "    <tr>\n",
              "      <th>0</th>\n",
              "      <td>0</td>\n",
              "      <td>30</td>\n",
              "      <td>0.0</td>\n",
              "      <td>0.0</td>\n",
              "      <td>0.0</td>\n",
              "      <td>0.0</td>\n",
              "      <td>0.0</td>\n",
              "      <td>0.0</td>\n",
              "      <td>0.0</td>\n",
              "      <td>0.0</td>\n",
              "      <td>0.0</td>\n",
              "      <td>0.0</td>\n",
              "      <td>0.0</td>\n",
              "      <td>0.0</td>\n",
              "      <td>11</td>\n",
              "      <td>2015</td>\n",
              "      <td>40</td>\n",
              "      <td>11</td>\n",
              "      <td>4</td>\n",
              "      <td>29</td>\n",
              "      <td>0.232056</td>\n",
              "      <td>0.345703</td>\n",
              "      <td>0.229736</td>\n",
              "      <td>0.186646</td>\n",
              "      <td>0.18103</td>\n",
              "      <td>0.147461</td>\n",
              "      <td>0.142212</td>\n",
              "      <td>0.139771</td>\n",
              "      <td>0.139893</td>\n",
              "      <td>0.14563</td>\n",
              "      <td>0.135986</td>\n",
              "      <td>0.145142</td>\n",
              "      <td>0.260010</td>\n",
              "      <td>0.320068</td>\n",
              "      <td>0.280029</td>\n",
              "      <td>0.280029</td>\n",
              "      <td>0.099976</td>\n",
              "      <td>0.080017</td>\n",
              "      <td>0.099976</td>\n",
              "      <td>0.080017</td>\n",
              "      <td>...</td>\n",
              "      <td>0.116272</td>\n",
              "      <td>0.09491</td>\n",
              "      <td>0.078796</td>\n",
              "      <td>0.079834</td>\n",
              "      <td>0.063416</td>\n",
              "      <td>0.073486</td>\n",
              "      <td>0.132446</td>\n",
              "      <td>0.164429</td>\n",
              "      <td>0.133911</td>\n",
              "      <td>0.107971</td>\n",
              "      <td>0.116089</td>\n",
              "      <td>0.093628</td>\n",
              "      <td>0.082397</td>\n",
              "      <td>0.083191</td>\n",
              "      <td>0.083313</td>\n",
              "      <td>0.076477</td>\n",
              "      <td>0.061066</td>\n",
              "      <td>0.069092</td>\n",
              "      <td>-0.200562</td>\n",
              "      <td>-0.201294</td>\n",
              "      <td>-0.201294</td>\n",
              "      <td>-0.200684</td>\n",
              "      <td>-0.200684</td>\n",
              "      <td>-0.200684</td>\n",
              "      <td>-0.200684</td>\n",
              "      <td>-0.213501</td>\n",
              "      <td>-0.216797</td>\n",
              "      <td>-0.232910</td>\n",
              "      <td>-0.236084</td>\n",
              "      <td>-0.239380</td>\n",
              "      <td>0.001689</td>\n",
              "      <td>0.001689</td>\n",
              "      <td>0.001689</td>\n",
              "      <td>0.001689</td>\n",
              "      <td>0.001689</td>\n",
              "      <td>0.001689</td>\n",
              "      <td>0.001689</td>\n",
              "      <td>0.0</td>\n",
              "      <td>34</td>\n",
              "      <td>30</td>\n",
              "    </tr>\n",
              "    <tr>\n",
              "      <th>1</th>\n",
              "      <td>0</td>\n",
              "      <td>31</td>\n",
              "      <td>0.0</td>\n",
              "      <td>0.0</td>\n",
              "      <td>0.0</td>\n",
              "      <td>0.0</td>\n",
              "      <td>0.0</td>\n",
              "      <td>0.0</td>\n",
              "      <td>0.0</td>\n",
              "      <td>0.0</td>\n",
              "      <td>0.0</td>\n",
              "      <td>0.0</td>\n",
              "      <td>0.0</td>\n",
              "      <td>0.0</td>\n",
              "      <td>11</td>\n",
              "      <td>2015</td>\n",
              "      <td>37</td>\n",
              "      <td>11</td>\n",
              "      <td>1</td>\n",
              "      <td>29</td>\n",
              "      <td>0.232056</td>\n",
              "      <td>0.345703</td>\n",
              "      <td>0.229736</td>\n",
              "      <td>0.186646</td>\n",
              "      <td>0.18103</td>\n",
              "      <td>0.147461</td>\n",
              "      <td>0.142212</td>\n",
              "      <td>0.139771</td>\n",
              "      <td>0.139893</td>\n",
              "      <td>0.14563</td>\n",
              "      <td>0.135986</td>\n",
              "      <td>0.145142</td>\n",
              "      <td>0.207520</td>\n",
              "      <td>0.339600</td>\n",
              "      <td>0.471680</td>\n",
              "      <td>0.245239</td>\n",
              "      <td>0.226440</td>\n",
              "      <td>0.245239</td>\n",
              "      <td>0.094360</td>\n",
              "      <td>0.188721</td>\n",
              "      <td>...</td>\n",
              "      <td>0.116272</td>\n",
              "      <td>0.09491</td>\n",
              "      <td>0.078796</td>\n",
              "      <td>0.079834</td>\n",
              "      <td>0.063416</td>\n",
              "      <td>0.073486</td>\n",
              "      <td>0.120300</td>\n",
              "      <td>0.179443</td>\n",
              "      <td>0.132690</td>\n",
              "      <td>0.107422</td>\n",
              "      <td>0.118408</td>\n",
              "      <td>0.100220</td>\n",
              "      <td>0.074646</td>\n",
              "      <td>0.077393</td>\n",
              "      <td>0.070740</td>\n",
              "      <td>0.072510</td>\n",
              "      <td>0.071350</td>\n",
              "      <td>0.087708</td>\n",
              "      <td>-0.080505</td>\n",
              "      <td>-0.080872</td>\n",
              "      <td>-0.117920</td>\n",
              "      <td>-0.132080</td>\n",
              "      <td>-0.132080</td>\n",
              "      <td>-0.132812</td>\n",
              "      <td>-0.130981</td>\n",
              "      <td>-0.138184</td>\n",
              "      <td>-0.143799</td>\n",
              "      <td>-0.338867</td>\n",
              "      <td>-0.362061</td>\n",
              "      <td>-0.294678</td>\n",
              "      <td>0.004189</td>\n",
              "      <td>0.004189</td>\n",
              "      <td>0.004189</td>\n",
              "      <td>0.004189</td>\n",
              "      <td>0.004189</td>\n",
              "      <td>0.004189</td>\n",
              "      <td>0.004189</td>\n",
              "      <td>0.0</td>\n",
              "      <td>34</td>\n",
              "      <td>30</td>\n",
              "    </tr>\n",
              "    <tr>\n",
              "      <th>2</th>\n",
              "      <td>0</td>\n",
              "      <td>32</td>\n",
              "      <td>0.0</td>\n",
              "      <td>0.0</td>\n",
              "      <td>0.0</td>\n",
              "      <td>0.0</td>\n",
              "      <td>0.0</td>\n",
              "      <td>0.0</td>\n",
              "      <td>0.0</td>\n",
              "      <td>0.0</td>\n",
              "      <td>0.0</td>\n",
              "      <td>0.0</td>\n",
              "      <td>0.0</td>\n",
              "      <td>0.0</td>\n",
              "      <td>11</td>\n",
              "      <td>2015</td>\n",
              "      <td>40</td>\n",
              "      <td>11</td>\n",
              "      <td>4</td>\n",
              "      <td>29</td>\n",
              "      <td>0.232056</td>\n",
              "      <td>0.345703</td>\n",
              "      <td>0.229736</td>\n",
              "      <td>0.186646</td>\n",
              "      <td>0.18103</td>\n",
              "      <td>0.147461</td>\n",
              "      <td>0.142212</td>\n",
              "      <td>0.139771</td>\n",
              "      <td>0.139893</td>\n",
              "      <td>0.14563</td>\n",
              "      <td>0.135986</td>\n",
              "      <td>0.145142</td>\n",
              "      <td>0.547363</td>\n",
              "      <td>0.754883</td>\n",
              "      <td>0.792480</td>\n",
              "      <td>0.604004</td>\n",
              "      <td>0.754883</td>\n",
              "      <td>0.377441</td>\n",
              "      <td>0.377441</td>\n",
              "      <td>0.490479</td>\n",
              "      <td>...</td>\n",
              "      <td>0.116272</td>\n",
              "      <td>0.09491</td>\n",
              "      <td>0.078796</td>\n",
              "      <td>0.079834</td>\n",
              "      <td>0.063416</td>\n",
              "      <td>0.073486</td>\n",
              "      <td>0.132446</td>\n",
              "      <td>0.164429</td>\n",
              "      <td>0.133911</td>\n",
              "      <td>0.107971</td>\n",
              "      <td>0.116089</td>\n",
              "      <td>0.093628</td>\n",
              "      <td>0.082397</td>\n",
              "      <td>0.083191</td>\n",
              "      <td>0.083313</td>\n",
              "      <td>0.076477</td>\n",
              "      <td>0.061066</td>\n",
              "      <td>0.069092</td>\n",
              "      <td>-0.212280</td>\n",
              "      <td>-0.211914</td>\n",
              "      <td>-0.212158</td>\n",
              "      <td>-0.212280</td>\n",
              "      <td>-0.212158</td>\n",
              "      <td>-0.212158</td>\n",
              "      <td>-0.212158</td>\n",
              "      <td>-0.212158</td>\n",
              "      <td>-0.212158</td>\n",
              "      <td>-0.212891</td>\n",
              "      <td>-0.212891</td>\n",
              "      <td>-0.212891</td>\n",
              "      <td>0.001409</td>\n",
              "      <td>0.001409</td>\n",
              "      <td>0.001409</td>\n",
              "      <td>0.001409</td>\n",
              "      <td>0.001409</td>\n",
              "      <td>0.001409</td>\n",
              "      <td>0.001409</td>\n",
              "      <td>0.0</td>\n",
              "      <td>34</td>\n",
              "      <td>30</td>\n",
              "    </tr>\n",
              "    <tr>\n",
              "      <th>3</th>\n",
              "      <td>0</td>\n",
              "      <td>33</td>\n",
              "      <td>0.0</td>\n",
              "      <td>0.0</td>\n",
              "      <td>0.0</td>\n",
              "      <td>0.0</td>\n",
              "      <td>0.0</td>\n",
              "      <td>0.0</td>\n",
              "      <td>0.0</td>\n",
              "      <td>0.0</td>\n",
              "      <td>0.0</td>\n",
              "      <td>0.0</td>\n",
              "      <td>0.0</td>\n",
              "      <td>0.0</td>\n",
              "      <td>11</td>\n",
              "      <td>2015</td>\n",
              "      <td>37</td>\n",
              "      <td>11</td>\n",
              "      <td>1</td>\n",
              "      <td>29</td>\n",
              "      <td>0.232056</td>\n",
              "      <td>0.345703</td>\n",
              "      <td>0.229736</td>\n",
              "      <td>0.186646</td>\n",
              "      <td>0.18103</td>\n",
              "      <td>0.147461</td>\n",
              "      <td>0.142212</td>\n",
              "      <td>0.139771</td>\n",
              "      <td>0.139893</td>\n",
              "      <td>0.14563</td>\n",
              "      <td>0.135986</td>\n",
              "      <td>0.145142</td>\n",
              "      <td>0.370361</td>\n",
              "      <td>0.388916</td>\n",
              "      <td>0.351807</td>\n",
              "      <td>0.481445</td>\n",
              "      <td>0.370361</td>\n",
              "      <td>0.240723</td>\n",
              "      <td>0.222168</td>\n",
              "      <td>0.203735</td>\n",
              "      <td>...</td>\n",
              "      <td>0.116272</td>\n",
              "      <td>0.09491</td>\n",
              "      <td>0.078796</td>\n",
              "      <td>0.079834</td>\n",
              "      <td>0.063416</td>\n",
              "      <td>0.073486</td>\n",
              "      <td>0.120300</td>\n",
              "      <td>0.179443</td>\n",
              "      <td>0.132690</td>\n",
              "      <td>0.107422</td>\n",
              "      <td>0.118408</td>\n",
              "      <td>0.100220</td>\n",
              "      <td>0.074646</td>\n",
              "      <td>0.077393</td>\n",
              "      <td>0.070740</td>\n",
              "      <td>0.072510</td>\n",
              "      <td>0.071350</td>\n",
              "      <td>0.087708</td>\n",
              "      <td>-0.145020</td>\n",
              "      <td>-0.145020</td>\n",
              "      <td>-0.145020</td>\n",
              "      <td>-0.145020</td>\n",
              "      <td>-0.145264</td>\n",
              "      <td>-0.145264</td>\n",
              "      <td>-0.145264</td>\n",
              "      <td>-0.145264</td>\n",
              "      <td>-0.145264</td>\n",
              "      <td>-0.145264</td>\n",
              "      <td>-0.148193</td>\n",
              "      <td>-0.148193</td>\n",
              "      <td>0.003349</td>\n",
              "      <td>0.003349</td>\n",
              "      <td>0.003349</td>\n",
              "      <td>0.003349</td>\n",
              "      <td>0.003349</td>\n",
              "      <td>0.003349</td>\n",
              "      <td>0.003349</td>\n",
              "      <td>0.0</td>\n",
              "      <td>34</td>\n",
              "      <td>30</td>\n",
              "    </tr>\n",
              "    <tr>\n",
              "      <th>4</th>\n",
              "      <td>0</td>\n",
              "      <td>35</td>\n",
              "      <td>0.0</td>\n",
              "      <td>0.0</td>\n",
              "      <td>0.0</td>\n",
              "      <td>0.0</td>\n",
              "      <td>0.0</td>\n",
              "      <td>0.0</td>\n",
              "      <td>0.0</td>\n",
              "      <td>0.0</td>\n",
              "      <td>0.0</td>\n",
              "      <td>0.0</td>\n",
              "      <td>0.0</td>\n",
              "      <td>0.0</td>\n",
              "      <td>11</td>\n",
              "      <td>2015</td>\n",
              "      <td>40</td>\n",
              "      <td>11</td>\n",
              "      <td>4</td>\n",
              "      <td>29</td>\n",
              "      <td>0.232056</td>\n",
              "      <td>0.345703</td>\n",
              "      <td>0.229736</td>\n",
              "      <td>0.186646</td>\n",
              "      <td>0.18103</td>\n",
              "      <td>0.147461</td>\n",
              "      <td>0.142212</td>\n",
              "      <td>0.139771</td>\n",
              "      <td>0.139893</td>\n",
              "      <td>0.14563</td>\n",
              "      <td>0.135986</td>\n",
              "      <td>0.145142</td>\n",
              "      <td>0.000000</td>\n",
              "      <td>0.000000</td>\n",
              "      <td>0.000000</td>\n",
              "      <td>0.000000</td>\n",
              "      <td>0.000000</td>\n",
              "      <td>0.000000</td>\n",
              "      <td>0.000000</td>\n",
              "      <td>0.000000</td>\n",
              "      <td>...</td>\n",
              "      <td>0.116272</td>\n",
              "      <td>0.09491</td>\n",
              "      <td>0.078796</td>\n",
              "      <td>0.079834</td>\n",
              "      <td>0.063416</td>\n",
              "      <td>0.073486</td>\n",
              "      <td>0.132446</td>\n",
              "      <td>0.164429</td>\n",
              "      <td>0.133911</td>\n",
              "      <td>0.107971</td>\n",
              "      <td>0.116089</td>\n",
              "      <td>0.093628</td>\n",
              "      <td>0.082397</td>\n",
              "      <td>0.083191</td>\n",
              "      <td>0.083313</td>\n",
              "      <td>0.076477</td>\n",
              "      <td>0.061066</td>\n",
              "      <td>0.069092</td>\n",
              "      <td>-0.002626</td>\n",
              "      <td>-0.002626</td>\n",
              "      <td>-0.002626</td>\n",
              "      <td>-0.002626</td>\n",
              "      <td>-0.002626</td>\n",
              "      <td>-0.002626</td>\n",
              "      <td>-0.002626</td>\n",
              "      <td>-0.002626</td>\n",
              "      <td>-0.002626</td>\n",
              "      <td>-0.002626</td>\n",
              "      <td>-0.002626</td>\n",
              "      <td>-0.002626</td>\n",
              "      <td>0.001575</td>\n",
              "      <td>0.001575</td>\n",
              "      <td>0.001575</td>\n",
              "      <td>0.001575</td>\n",
              "      <td>0.001575</td>\n",
              "      <td>0.001575</td>\n",
              "      <td>0.001575</td>\n",
              "      <td>0.0</td>\n",
              "      <td>34</td>\n",
              "      <td>30</td>\n",
              "    </tr>\n",
              "  </tbody>\n",
              "</table>\n",
              "<p>5 rows × 148 columns</p>\n",
              "</div>"
            ],
            "text/plain": [
              "   shop_id  item_id  ...  month_num_pred  days\n",
              "0        0       30  ...              34    30\n",
              "1        0       31  ...              34    30\n",
              "2        0       32  ...              34    30\n",
              "3        0       33  ...              34    30\n",
              "4        0       35  ...              34    30\n",
              "\n",
              "[5 rows x 148 columns]"
            ]
          },
          "metadata": {
            "tags": []
          },
          "execution_count": 58
        }
      ]
    },
    {
      "cell_type": "code",
      "metadata": {
        "colab": {
          "base_uri": "https://localhost:8080/"
        },
        "id": "pLrO2VCK92ob",
        "outputId": "d91c9c85-a58a-403a-eaf0-0b773aa25eab"
      },
      "source": [
        "pre_test.shape"
      ],
      "execution_count": null,
      "outputs": [
        {
          "output_type": "execute_result",
          "data": {
            "text/plain": [
              "(424123, 148)"
            ]
          },
          "metadata": {
            "tags": []
          },
          "execution_count": 59
        }
      ]
    },
    {
      "cell_type": "markdown",
      "metadata": {
        "id": "dJfNZWUAM4HH"
      },
      "source": [
        "Attach the prediction:"
      ]
    },
    {
      "cell_type": "code",
      "metadata": {
        "colab": {
          "base_uri": "https://localhost:8080/",
          "height": 439
        },
        "id": "7op-YdQJUBJ_",
        "outputId": "64884c25-f39c-4c52-8680-9bea0f97ac12"
      },
      "source": [
        "test_pred = model.predict(xgb.DMatrix(pre_test))\n",
        "pre_test['item_cnt_month'] = test_pred\n",
        "pre_test\n",
        "\n"
      ],
      "execution_count": null,
      "outputs": [
        {
          "output_type": "execute_result",
          "data": {
            "text/html": [
              "<div>\n",
              "<style scoped>\n",
              "    .dataframe tbody tr th:only-of-type {\n",
              "        vertical-align: middle;\n",
              "    }\n",
              "\n",
              "    .dataframe tbody tr th {\n",
              "        vertical-align: top;\n",
              "    }\n",
              "\n",
              "    .dataframe thead th {\n",
              "        text-align: right;\n",
              "    }\n",
              "</style>\n",
              "<table border=\"1\" class=\"dataframe\">\n",
              "  <thead>\n",
              "    <tr style=\"text-align: right;\">\n",
              "      <th></th>\n",
              "      <th>shop_id</th>\n",
              "      <th>item_id</th>\n",
              "      <th>cnt_shop_item_12</th>\n",
              "      <th>cnt_shop_item_11</th>\n",
              "      <th>cnt_shop_item_10</th>\n",
              "      <th>cnt_shop_item_9</th>\n",
              "      <th>cnt_shop_item_8</th>\n",
              "      <th>cnt_shop_item_7</th>\n",
              "      <th>cnt_shop_item_6</th>\n",
              "      <th>cnt_shop_item_5</th>\n",
              "      <th>cnt_shop_item_4</th>\n",
              "      <th>cnt_shop_item_3</th>\n",
              "      <th>cnt_shop_item_2</th>\n",
              "      <th>cnt_shop_item_1</th>\n",
              "      <th>month_of_pred</th>\n",
              "      <th>year_of_pred</th>\n",
              "      <th>item_category_id</th>\n",
              "      <th>type_code</th>\n",
              "      <th>subtype_code</th>\n",
              "      <th>city_code</th>\n",
              "      <th>cnt_date_12</th>\n",
              "      <th>cnt_date_11</th>\n",
              "      <th>cnt_date_10</th>\n",
              "      <th>cnt_date_9</th>\n",
              "      <th>cnt_date_8</th>\n",
              "      <th>cnt_date_7</th>\n",
              "      <th>cnt_date_6</th>\n",
              "      <th>cnt_date_5</th>\n",
              "      <th>cnt_date_4</th>\n",
              "      <th>cnt_date_3</th>\n",
              "      <th>cnt_date_2</th>\n",
              "      <th>cnt_date_1</th>\n",
              "      <th>cnt_date_item_12</th>\n",
              "      <th>cnt_date_item_11</th>\n",
              "      <th>cnt_date_item_10</th>\n",
              "      <th>cnt_date_item_9</th>\n",
              "      <th>cnt_date_item_8</th>\n",
              "      <th>cnt_date_item_7</th>\n",
              "      <th>cnt_date_item_6</th>\n",
              "      <th>cnt_date_item_5</th>\n",
              "      <th>...</th>\n",
              "      <th>cnt_date_type_7</th>\n",
              "      <th>cnt_date_type_6</th>\n",
              "      <th>cnt_date_type_5</th>\n",
              "      <th>cnt_date_type_2</th>\n",
              "      <th>cnt_date_type_1</th>\n",
              "      <th>cnt_date_subtype_12</th>\n",
              "      <th>cnt_date_subtype_11</th>\n",
              "      <th>cnt_date_subtype_10</th>\n",
              "      <th>cnt_date_subtype_9</th>\n",
              "      <th>cnt_date_subtype_8</th>\n",
              "      <th>cnt_date_subtype_7</th>\n",
              "      <th>cnt_date_subtype_6</th>\n",
              "      <th>cnt_date_subtype_5</th>\n",
              "      <th>cnt_date_subtype_4</th>\n",
              "      <th>cnt_date_subtype_3</th>\n",
              "      <th>cnt_date_subtype_2</th>\n",
              "      <th>cnt_date_subtype_1</th>\n",
              "      <th>Avg_price_item_12</th>\n",
              "      <th>Avg_price_item_11</th>\n",
              "      <th>Avg_price_item_10</th>\n",
              "      <th>Avg_price_item_9</th>\n",
              "      <th>Avg_price_item_8</th>\n",
              "      <th>Avg_price_item_7</th>\n",
              "      <th>Avg_price_item_6</th>\n",
              "      <th>Avg_price_item_5</th>\n",
              "      <th>Avg_price_item_4</th>\n",
              "      <th>Avg_price_item_3</th>\n",
              "      <th>Avg_price_item_2</th>\n",
              "      <th>Avg_price_item_1</th>\n",
              "      <th>item_price_percnt_12</th>\n",
              "      <th>item_price_percnt_6</th>\n",
              "      <th>item_price_percnt_5</th>\n",
              "      <th>item_price_percnt_4</th>\n",
              "      <th>item_price_percnt_3</th>\n",
              "      <th>item_price_percnt_2</th>\n",
              "      <th>item_price_percnt_1</th>\n",
              "      <th>item_price_discount_1</th>\n",
              "      <th>month_num_pred</th>\n",
              "      <th>days</th>\n",
              "      <th>item_cnt_month</th>\n",
              "    </tr>\n",
              "  </thead>\n",
              "  <tbody>\n",
              "    <tr>\n",
              "      <th>0</th>\n",
              "      <td>0</td>\n",
              "      <td>30</td>\n",
              "      <td>0.0</td>\n",
              "      <td>0.0</td>\n",
              "      <td>0.0</td>\n",
              "      <td>0.0</td>\n",
              "      <td>0.0</td>\n",
              "      <td>0.0</td>\n",
              "      <td>0.0</td>\n",
              "      <td>0.0</td>\n",
              "      <td>0.0</td>\n",
              "      <td>0.0</td>\n",
              "      <td>0.0</td>\n",
              "      <td>0.0</td>\n",
              "      <td>11</td>\n",
              "      <td>2015</td>\n",
              "      <td>40</td>\n",
              "      <td>11</td>\n",
              "      <td>4</td>\n",
              "      <td>29</td>\n",
              "      <td>0.232056</td>\n",
              "      <td>0.345703</td>\n",
              "      <td>0.229736</td>\n",
              "      <td>0.186646</td>\n",
              "      <td>0.18103</td>\n",
              "      <td>0.147461</td>\n",
              "      <td>0.142212</td>\n",
              "      <td>0.139771</td>\n",
              "      <td>0.139893</td>\n",
              "      <td>0.14563</td>\n",
              "      <td>0.135986</td>\n",
              "      <td>0.145142</td>\n",
              "      <td>0.260010</td>\n",
              "      <td>0.320068</td>\n",
              "      <td>0.280029</td>\n",
              "      <td>0.280029</td>\n",
              "      <td>0.099976</td>\n",
              "      <td>0.080017</td>\n",
              "      <td>0.099976</td>\n",
              "      <td>0.080017</td>\n",
              "      <td>...</td>\n",
              "      <td>0.094910</td>\n",
              "      <td>0.078796</td>\n",
              "      <td>0.079834</td>\n",
              "      <td>0.063416</td>\n",
              "      <td>0.073486</td>\n",
              "      <td>0.132446</td>\n",
              "      <td>0.164429</td>\n",
              "      <td>0.133911</td>\n",
              "      <td>0.107971</td>\n",
              "      <td>0.116089</td>\n",
              "      <td>0.093628</td>\n",
              "      <td>0.082397</td>\n",
              "      <td>0.083191</td>\n",
              "      <td>0.083313</td>\n",
              "      <td>0.076477</td>\n",
              "      <td>0.061066</td>\n",
              "      <td>0.069092</td>\n",
              "      <td>-0.200562</td>\n",
              "      <td>-0.201294</td>\n",
              "      <td>-0.201294</td>\n",
              "      <td>-0.200684</td>\n",
              "      <td>-0.200684</td>\n",
              "      <td>-0.200684</td>\n",
              "      <td>-0.200684</td>\n",
              "      <td>-0.213501</td>\n",
              "      <td>-0.216797</td>\n",
              "      <td>-0.232910</td>\n",
              "      <td>-0.236084</td>\n",
              "      <td>-0.239380</td>\n",
              "      <td>0.001689</td>\n",
              "      <td>0.001689</td>\n",
              "      <td>0.001689</td>\n",
              "      <td>0.001689</td>\n",
              "      <td>0.001689</td>\n",
              "      <td>0.001689</td>\n",
              "      <td>0.001689</td>\n",
              "      <td>0.0</td>\n",
              "      <td>34</td>\n",
              "      <td>30</td>\n",
              "      <td>0.011463</td>\n",
              "    </tr>\n",
              "    <tr>\n",
              "      <th>1</th>\n",
              "      <td>0</td>\n",
              "      <td>31</td>\n",
              "      <td>0.0</td>\n",
              "      <td>0.0</td>\n",
              "      <td>0.0</td>\n",
              "      <td>0.0</td>\n",
              "      <td>0.0</td>\n",
              "      <td>0.0</td>\n",
              "      <td>0.0</td>\n",
              "      <td>0.0</td>\n",
              "      <td>0.0</td>\n",
              "      <td>0.0</td>\n",
              "      <td>0.0</td>\n",
              "      <td>0.0</td>\n",
              "      <td>11</td>\n",
              "      <td>2015</td>\n",
              "      <td>37</td>\n",
              "      <td>11</td>\n",
              "      <td>1</td>\n",
              "      <td>29</td>\n",
              "      <td>0.232056</td>\n",
              "      <td>0.345703</td>\n",
              "      <td>0.229736</td>\n",
              "      <td>0.186646</td>\n",
              "      <td>0.18103</td>\n",
              "      <td>0.147461</td>\n",
              "      <td>0.142212</td>\n",
              "      <td>0.139771</td>\n",
              "      <td>0.139893</td>\n",
              "      <td>0.14563</td>\n",
              "      <td>0.135986</td>\n",
              "      <td>0.145142</td>\n",
              "      <td>0.207520</td>\n",
              "      <td>0.339600</td>\n",
              "      <td>0.471680</td>\n",
              "      <td>0.245239</td>\n",
              "      <td>0.226440</td>\n",
              "      <td>0.245239</td>\n",
              "      <td>0.094360</td>\n",
              "      <td>0.188721</td>\n",
              "      <td>...</td>\n",
              "      <td>0.094910</td>\n",
              "      <td>0.078796</td>\n",
              "      <td>0.079834</td>\n",
              "      <td>0.063416</td>\n",
              "      <td>0.073486</td>\n",
              "      <td>0.120300</td>\n",
              "      <td>0.179443</td>\n",
              "      <td>0.132690</td>\n",
              "      <td>0.107422</td>\n",
              "      <td>0.118408</td>\n",
              "      <td>0.100220</td>\n",
              "      <td>0.074646</td>\n",
              "      <td>0.077393</td>\n",
              "      <td>0.070740</td>\n",
              "      <td>0.072510</td>\n",
              "      <td>0.071350</td>\n",
              "      <td>0.087708</td>\n",
              "      <td>-0.080505</td>\n",
              "      <td>-0.080872</td>\n",
              "      <td>-0.117920</td>\n",
              "      <td>-0.132080</td>\n",
              "      <td>-0.132080</td>\n",
              "      <td>-0.132812</td>\n",
              "      <td>-0.130981</td>\n",
              "      <td>-0.138184</td>\n",
              "      <td>-0.143799</td>\n",
              "      <td>-0.338867</td>\n",
              "      <td>-0.362061</td>\n",
              "      <td>-0.294678</td>\n",
              "      <td>0.004189</td>\n",
              "      <td>0.004189</td>\n",
              "      <td>0.004189</td>\n",
              "      <td>0.004189</td>\n",
              "      <td>0.004189</td>\n",
              "      <td>0.004189</td>\n",
              "      <td>0.004189</td>\n",
              "      <td>0.0</td>\n",
              "      <td>34</td>\n",
              "      <td>30</td>\n",
              "      <td>0.035845</td>\n",
              "    </tr>\n",
              "    <tr>\n",
              "      <th>2</th>\n",
              "      <td>0</td>\n",
              "      <td>32</td>\n",
              "      <td>0.0</td>\n",
              "      <td>0.0</td>\n",
              "      <td>0.0</td>\n",
              "      <td>0.0</td>\n",
              "      <td>0.0</td>\n",
              "      <td>0.0</td>\n",
              "      <td>0.0</td>\n",
              "      <td>0.0</td>\n",
              "      <td>0.0</td>\n",
              "      <td>0.0</td>\n",
              "      <td>0.0</td>\n",
              "      <td>0.0</td>\n",
              "      <td>11</td>\n",
              "      <td>2015</td>\n",
              "      <td>40</td>\n",
              "      <td>11</td>\n",
              "      <td>4</td>\n",
              "      <td>29</td>\n",
              "      <td>0.232056</td>\n",
              "      <td>0.345703</td>\n",
              "      <td>0.229736</td>\n",
              "      <td>0.186646</td>\n",
              "      <td>0.18103</td>\n",
              "      <td>0.147461</td>\n",
              "      <td>0.142212</td>\n",
              "      <td>0.139771</td>\n",
              "      <td>0.139893</td>\n",
              "      <td>0.14563</td>\n",
              "      <td>0.135986</td>\n",
              "      <td>0.145142</td>\n",
              "      <td>0.547363</td>\n",
              "      <td>0.754883</td>\n",
              "      <td>0.792480</td>\n",
              "      <td>0.604004</td>\n",
              "      <td>0.754883</td>\n",
              "      <td>0.377441</td>\n",
              "      <td>0.377441</td>\n",
              "      <td>0.490479</td>\n",
              "      <td>...</td>\n",
              "      <td>0.094910</td>\n",
              "      <td>0.078796</td>\n",
              "      <td>0.079834</td>\n",
              "      <td>0.063416</td>\n",
              "      <td>0.073486</td>\n",
              "      <td>0.132446</td>\n",
              "      <td>0.164429</td>\n",
              "      <td>0.133911</td>\n",
              "      <td>0.107971</td>\n",
              "      <td>0.116089</td>\n",
              "      <td>0.093628</td>\n",
              "      <td>0.082397</td>\n",
              "      <td>0.083191</td>\n",
              "      <td>0.083313</td>\n",
              "      <td>0.076477</td>\n",
              "      <td>0.061066</td>\n",
              "      <td>0.069092</td>\n",
              "      <td>-0.212280</td>\n",
              "      <td>-0.211914</td>\n",
              "      <td>-0.212158</td>\n",
              "      <td>-0.212280</td>\n",
              "      <td>-0.212158</td>\n",
              "      <td>-0.212158</td>\n",
              "      <td>-0.212158</td>\n",
              "      <td>-0.212158</td>\n",
              "      <td>-0.212158</td>\n",
              "      <td>-0.212891</td>\n",
              "      <td>-0.212891</td>\n",
              "      <td>-0.212891</td>\n",
              "      <td>0.001409</td>\n",
              "      <td>0.001409</td>\n",
              "      <td>0.001409</td>\n",
              "      <td>0.001409</td>\n",
              "      <td>0.001409</td>\n",
              "      <td>0.001409</td>\n",
              "      <td>0.001409</td>\n",
              "      <td>0.0</td>\n",
              "      <td>34</td>\n",
              "      <td>30</td>\n",
              "      <td>0.049720</td>\n",
              "    </tr>\n",
              "    <tr>\n",
              "      <th>3</th>\n",
              "      <td>0</td>\n",
              "      <td>33</td>\n",
              "      <td>0.0</td>\n",
              "      <td>0.0</td>\n",
              "      <td>0.0</td>\n",
              "      <td>0.0</td>\n",
              "      <td>0.0</td>\n",
              "      <td>0.0</td>\n",
              "      <td>0.0</td>\n",
              "      <td>0.0</td>\n",
              "      <td>0.0</td>\n",
              "      <td>0.0</td>\n",
              "      <td>0.0</td>\n",
              "      <td>0.0</td>\n",
              "      <td>11</td>\n",
              "      <td>2015</td>\n",
              "      <td>37</td>\n",
              "      <td>11</td>\n",
              "      <td>1</td>\n",
              "      <td>29</td>\n",
              "      <td>0.232056</td>\n",
              "      <td>0.345703</td>\n",
              "      <td>0.229736</td>\n",
              "      <td>0.186646</td>\n",
              "      <td>0.18103</td>\n",
              "      <td>0.147461</td>\n",
              "      <td>0.142212</td>\n",
              "      <td>0.139771</td>\n",
              "      <td>0.139893</td>\n",
              "      <td>0.14563</td>\n",
              "      <td>0.135986</td>\n",
              "      <td>0.145142</td>\n",
              "      <td>0.370361</td>\n",
              "      <td>0.388916</td>\n",
              "      <td>0.351807</td>\n",
              "      <td>0.481445</td>\n",
              "      <td>0.370361</td>\n",
              "      <td>0.240723</td>\n",
              "      <td>0.222168</td>\n",
              "      <td>0.203735</td>\n",
              "      <td>...</td>\n",
              "      <td>0.094910</td>\n",
              "      <td>0.078796</td>\n",
              "      <td>0.079834</td>\n",
              "      <td>0.063416</td>\n",
              "      <td>0.073486</td>\n",
              "      <td>0.120300</td>\n",
              "      <td>0.179443</td>\n",
              "      <td>0.132690</td>\n",
              "      <td>0.107422</td>\n",
              "      <td>0.118408</td>\n",
              "      <td>0.100220</td>\n",
              "      <td>0.074646</td>\n",
              "      <td>0.077393</td>\n",
              "      <td>0.070740</td>\n",
              "      <td>0.072510</td>\n",
              "      <td>0.071350</td>\n",
              "      <td>0.087708</td>\n",
              "      <td>-0.145020</td>\n",
              "      <td>-0.145020</td>\n",
              "      <td>-0.145020</td>\n",
              "      <td>-0.145020</td>\n",
              "      <td>-0.145264</td>\n",
              "      <td>-0.145264</td>\n",
              "      <td>-0.145264</td>\n",
              "      <td>-0.145264</td>\n",
              "      <td>-0.145264</td>\n",
              "      <td>-0.145264</td>\n",
              "      <td>-0.148193</td>\n",
              "      <td>-0.148193</td>\n",
              "      <td>0.003349</td>\n",
              "      <td>0.003349</td>\n",
              "      <td>0.003349</td>\n",
              "      <td>0.003349</td>\n",
              "      <td>0.003349</td>\n",
              "      <td>0.003349</td>\n",
              "      <td>0.003349</td>\n",
              "      <td>0.0</td>\n",
              "      <td>34</td>\n",
              "      <td>30</td>\n",
              "      <td>0.031259</td>\n",
              "    </tr>\n",
              "    <tr>\n",
              "      <th>4</th>\n",
              "      <td>0</td>\n",
              "      <td>35</td>\n",
              "      <td>0.0</td>\n",
              "      <td>0.0</td>\n",
              "      <td>0.0</td>\n",
              "      <td>0.0</td>\n",
              "      <td>0.0</td>\n",
              "      <td>0.0</td>\n",
              "      <td>0.0</td>\n",
              "      <td>0.0</td>\n",
              "      <td>0.0</td>\n",
              "      <td>0.0</td>\n",
              "      <td>0.0</td>\n",
              "      <td>0.0</td>\n",
              "      <td>11</td>\n",
              "      <td>2015</td>\n",
              "      <td>40</td>\n",
              "      <td>11</td>\n",
              "      <td>4</td>\n",
              "      <td>29</td>\n",
              "      <td>0.232056</td>\n",
              "      <td>0.345703</td>\n",
              "      <td>0.229736</td>\n",
              "      <td>0.186646</td>\n",
              "      <td>0.18103</td>\n",
              "      <td>0.147461</td>\n",
              "      <td>0.142212</td>\n",
              "      <td>0.139771</td>\n",
              "      <td>0.139893</td>\n",
              "      <td>0.14563</td>\n",
              "      <td>0.135986</td>\n",
              "      <td>0.145142</td>\n",
              "      <td>0.000000</td>\n",
              "      <td>0.000000</td>\n",
              "      <td>0.000000</td>\n",
              "      <td>0.000000</td>\n",
              "      <td>0.000000</td>\n",
              "      <td>0.000000</td>\n",
              "      <td>0.000000</td>\n",
              "      <td>0.000000</td>\n",
              "      <td>...</td>\n",
              "      <td>0.094910</td>\n",
              "      <td>0.078796</td>\n",
              "      <td>0.079834</td>\n",
              "      <td>0.063416</td>\n",
              "      <td>0.073486</td>\n",
              "      <td>0.132446</td>\n",
              "      <td>0.164429</td>\n",
              "      <td>0.133911</td>\n",
              "      <td>0.107971</td>\n",
              "      <td>0.116089</td>\n",
              "      <td>0.093628</td>\n",
              "      <td>0.082397</td>\n",
              "      <td>0.083191</td>\n",
              "      <td>0.083313</td>\n",
              "      <td>0.076477</td>\n",
              "      <td>0.061066</td>\n",
              "      <td>0.069092</td>\n",
              "      <td>-0.002626</td>\n",
              "      <td>-0.002626</td>\n",
              "      <td>-0.002626</td>\n",
              "      <td>-0.002626</td>\n",
              "      <td>-0.002626</td>\n",
              "      <td>-0.002626</td>\n",
              "      <td>-0.002626</td>\n",
              "      <td>-0.002626</td>\n",
              "      <td>-0.002626</td>\n",
              "      <td>-0.002626</td>\n",
              "      <td>-0.002626</td>\n",
              "      <td>-0.002626</td>\n",
              "      <td>0.001575</td>\n",
              "      <td>0.001575</td>\n",
              "      <td>0.001575</td>\n",
              "      <td>0.001575</td>\n",
              "      <td>0.001575</td>\n",
              "      <td>0.001575</td>\n",
              "      <td>0.001575</td>\n",
              "      <td>0.0</td>\n",
              "      <td>34</td>\n",
              "      <td>30</td>\n",
              "      <td>0.048870</td>\n",
              "    </tr>\n",
              "    <tr>\n",
              "      <th>...</th>\n",
              "      <td>...</td>\n",
              "      <td>...</td>\n",
              "      <td>...</td>\n",
              "      <td>...</td>\n",
              "      <td>...</td>\n",
              "      <td>...</td>\n",
              "      <td>...</td>\n",
              "      <td>...</td>\n",
              "      <td>...</td>\n",
              "      <td>...</td>\n",
              "      <td>...</td>\n",
              "      <td>...</td>\n",
              "      <td>...</td>\n",
              "      <td>...</td>\n",
              "      <td>...</td>\n",
              "      <td>...</td>\n",
              "      <td>...</td>\n",
              "      <td>...</td>\n",
              "      <td>...</td>\n",
              "      <td>...</td>\n",
              "      <td>...</td>\n",
              "      <td>...</td>\n",
              "      <td>...</td>\n",
              "      <td>...</td>\n",
              "      <td>...</td>\n",
              "      <td>...</td>\n",
              "      <td>...</td>\n",
              "      <td>...</td>\n",
              "      <td>...</td>\n",
              "      <td>...</td>\n",
              "      <td>...</td>\n",
              "      <td>...</td>\n",
              "      <td>...</td>\n",
              "      <td>...</td>\n",
              "      <td>...</td>\n",
              "      <td>...</td>\n",
              "      <td>...</td>\n",
              "      <td>...</td>\n",
              "      <td>...</td>\n",
              "      <td>...</td>\n",
              "      <td>...</td>\n",
              "      <td>...</td>\n",
              "      <td>...</td>\n",
              "      <td>...</td>\n",
              "      <td>...</td>\n",
              "      <td>...</td>\n",
              "      <td>...</td>\n",
              "      <td>...</td>\n",
              "      <td>...</td>\n",
              "      <td>...</td>\n",
              "      <td>...</td>\n",
              "      <td>...</td>\n",
              "      <td>...</td>\n",
              "      <td>...</td>\n",
              "      <td>...</td>\n",
              "      <td>...</td>\n",
              "      <td>...</td>\n",
              "      <td>...</td>\n",
              "      <td>...</td>\n",
              "      <td>...</td>\n",
              "      <td>...</td>\n",
              "      <td>...</td>\n",
              "      <td>...</td>\n",
              "      <td>...</td>\n",
              "      <td>...</td>\n",
              "      <td>...</td>\n",
              "      <td>...</td>\n",
              "      <td>...</td>\n",
              "      <td>...</td>\n",
              "      <td>...</td>\n",
              "      <td>...</td>\n",
              "      <td>...</td>\n",
              "      <td>...</td>\n",
              "      <td>...</td>\n",
              "      <td>...</td>\n",
              "      <td>...</td>\n",
              "      <td>...</td>\n",
              "      <td>...</td>\n",
              "      <td>...</td>\n",
              "      <td>...</td>\n",
              "      <td>...</td>\n",
              "    </tr>\n",
              "    <tr>\n",
              "      <th>424118</th>\n",
              "      <td>59</td>\n",
              "      <td>22154</td>\n",
              "      <td>0.0</td>\n",
              "      <td>0.0</td>\n",
              "      <td>0.0</td>\n",
              "      <td>0.0</td>\n",
              "      <td>0.0</td>\n",
              "      <td>0.0</td>\n",
              "      <td>0.0</td>\n",
              "      <td>0.0</td>\n",
              "      <td>0.0</td>\n",
              "      <td>0.0</td>\n",
              "      <td>0.0</td>\n",
              "      <td>0.0</td>\n",
              "      <td>11</td>\n",
              "      <td>2015</td>\n",
              "      <td>37</td>\n",
              "      <td>11</td>\n",
              "      <td>1</td>\n",
              "      <td>30</td>\n",
              "      <td>0.232056</td>\n",
              "      <td>0.345703</td>\n",
              "      <td>0.229736</td>\n",
              "      <td>0.186646</td>\n",
              "      <td>0.18103</td>\n",
              "      <td>0.147461</td>\n",
              "      <td>0.142212</td>\n",
              "      <td>0.139771</td>\n",
              "      <td>0.139893</td>\n",
              "      <td>0.14563</td>\n",
              "      <td>0.135986</td>\n",
              "      <td>0.145142</td>\n",
              "      <td>0.000000</td>\n",
              "      <td>0.000000</td>\n",
              "      <td>0.000000</td>\n",
              "      <td>0.000000</td>\n",
              "      <td>0.000000</td>\n",
              "      <td>0.000000</td>\n",
              "      <td>0.000000</td>\n",
              "      <td>0.000000</td>\n",
              "      <td>...</td>\n",
              "      <td>0.094910</td>\n",
              "      <td>0.078796</td>\n",
              "      <td>0.079834</td>\n",
              "      <td>0.063416</td>\n",
              "      <td>0.073486</td>\n",
              "      <td>0.120300</td>\n",
              "      <td>0.179443</td>\n",
              "      <td>0.132690</td>\n",
              "      <td>0.107422</td>\n",
              "      <td>0.118408</td>\n",
              "      <td>0.100220</td>\n",
              "      <td>0.074646</td>\n",
              "      <td>0.077393</td>\n",
              "      <td>0.070740</td>\n",
              "      <td>0.072510</td>\n",
              "      <td>0.071350</td>\n",
              "      <td>0.087708</td>\n",
              "      <td>0.037231</td>\n",
              "      <td>0.037231</td>\n",
              "      <td>0.037231</td>\n",
              "      <td>0.037231</td>\n",
              "      <td>0.037231</td>\n",
              "      <td>0.037231</td>\n",
              "      <td>0.037231</td>\n",
              "      <td>0.037231</td>\n",
              "      <td>-0.153442</td>\n",
              "      <td>-0.185181</td>\n",
              "      <td>-0.217041</td>\n",
              "      <td>-0.280518</td>\n",
              "      <td>0.002935</td>\n",
              "      <td>0.003029</td>\n",
              "      <td>0.003050</td>\n",
              "      <td>0.003071</td>\n",
              "      <td>0.003120</td>\n",
              "      <td>0.003145</td>\n",
              "      <td>0.003204</td>\n",
              "      <td>0.0</td>\n",
              "      <td>34</td>\n",
              "      <td>30</td>\n",
              "      <td>0.108087</td>\n",
              "    </tr>\n",
              "    <tr>\n",
              "      <th>424119</th>\n",
              "      <td>59</td>\n",
              "      <td>22155</td>\n",
              "      <td>0.0</td>\n",
              "      <td>0.0</td>\n",
              "      <td>0.0</td>\n",
              "      <td>0.0</td>\n",
              "      <td>0.0</td>\n",
              "      <td>0.0</td>\n",
              "      <td>0.0</td>\n",
              "      <td>0.0</td>\n",
              "      <td>0.0</td>\n",
              "      <td>0.0</td>\n",
              "      <td>0.0</td>\n",
              "      <td>0.0</td>\n",
              "      <td>11</td>\n",
              "      <td>2015</td>\n",
              "      <td>37</td>\n",
              "      <td>11</td>\n",
              "      <td>1</td>\n",
              "      <td>30</td>\n",
              "      <td>0.232056</td>\n",
              "      <td>0.345703</td>\n",
              "      <td>0.229736</td>\n",
              "      <td>0.186646</td>\n",
              "      <td>0.18103</td>\n",
              "      <td>0.147461</td>\n",
              "      <td>0.142212</td>\n",
              "      <td>0.139771</td>\n",
              "      <td>0.139893</td>\n",
              "      <td>0.14563</td>\n",
              "      <td>0.135986</td>\n",
              "      <td>0.145142</td>\n",
              "      <td>0.000000</td>\n",
              "      <td>0.000000</td>\n",
              "      <td>0.000000</td>\n",
              "      <td>0.000000</td>\n",
              "      <td>0.000000</td>\n",
              "      <td>0.000000</td>\n",
              "      <td>0.000000</td>\n",
              "      <td>0.032257</td>\n",
              "      <td>...</td>\n",
              "      <td>0.094910</td>\n",
              "      <td>0.078796</td>\n",
              "      <td>0.079834</td>\n",
              "      <td>0.063416</td>\n",
              "      <td>0.073486</td>\n",
              "      <td>0.120300</td>\n",
              "      <td>0.179443</td>\n",
              "      <td>0.132690</td>\n",
              "      <td>0.107422</td>\n",
              "      <td>0.118408</td>\n",
              "      <td>0.100220</td>\n",
              "      <td>0.074646</td>\n",
              "      <td>0.077393</td>\n",
              "      <td>0.070740</td>\n",
              "      <td>0.072510</td>\n",
              "      <td>0.071350</td>\n",
              "      <td>0.087708</td>\n",
              "      <td>-0.039642</td>\n",
              "      <td>-0.039642</td>\n",
              "      <td>-0.039642</td>\n",
              "      <td>-0.039642</td>\n",
              "      <td>-0.039642</td>\n",
              "      <td>-0.039642</td>\n",
              "      <td>-0.039642</td>\n",
              "      <td>0.091675</td>\n",
              "      <td>0.091675</td>\n",
              "      <td>0.091675</td>\n",
              "      <td>0.223022</td>\n",
              "      <td>0.223022</td>\n",
              "      <td>0.000438</td>\n",
              "      <td>0.000452</td>\n",
              "      <td>0.000455</td>\n",
              "      <td>0.000458</td>\n",
              "      <td>0.000465</td>\n",
              "      <td>0.000469</td>\n",
              "      <td>0.000478</td>\n",
              "      <td>0.0</td>\n",
              "      <td>34</td>\n",
              "      <td>30</td>\n",
              "      <td>0.439006</td>\n",
              "    </tr>\n",
              "    <tr>\n",
              "      <th>424120</th>\n",
              "      <td>59</td>\n",
              "      <td>22162</td>\n",
              "      <td>0.0</td>\n",
              "      <td>0.0</td>\n",
              "      <td>0.0</td>\n",
              "      <td>9.0</td>\n",
              "      <td>4.0</td>\n",
              "      <td>1.0</td>\n",
              "      <td>1.0</td>\n",
              "      <td>0.0</td>\n",
              "      <td>0.0</td>\n",
              "      <td>1.0</td>\n",
              "      <td>0.0</td>\n",
              "      <td>0.0</td>\n",
              "      <td>11</td>\n",
              "      <td>2015</td>\n",
              "      <td>40</td>\n",
              "      <td>11</td>\n",
              "      <td>4</td>\n",
              "      <td>30</td>\n",
              "      <td>0.232056</td>\n",
              "      <td>0.345703</td>\n",
              "      <td>0.229736</td>\n",
              "      <td>0.186646</td>\n",
              "      <td>0.18103</td>\n",
              "      <td>0.147461</td>\n",
              "      <td>0.142212</td>\n",
              "      <td>0.139771</td>\n",
              "      <td>0.139893</td>\n",
              "      <td>0.14563</td>\n",
              "      <td>0.135986</td>\n",
              "      <td>0.145142</td>\n",
              "      <td>0.000000</td>\n",
              "      <td>0.000000</td>\n",
              "      <td>0.000000</td>\n",
              "      <td>6.062500</td>\n",
              "      <td>3.744141</td>\n",
              "      <td>1.659180</td>\n",
              "      <td>0.744629</td>\n",
              "      <td>0.468018</td>\n",
              "      <td>...</td>\n",
              "      <td>0.094910</td>\n",
              "      <td>0.078796</td>\n",
              "      <td>0.079834</td>\n",
              "      <td>0.063416</td>\n",
              "      <td>0.073486</td>\n",
              "      <td>0.132446</td>\n",
              "      <td>0.164429</td>\n",
              "      <td>0.133911</td>\n",
              "      <td>0.107971</td>\n",
              "      <td>0.116089</td>\n",
              "      <td>0.093628</td>\n",
              "      <td>0.082397</td>\n",
              "      <td>0.083191</td>\n",
              "      <td>0.083313</td>\n",
              "      <td>0.076477</td>\n",
              "      <td>0.061066</td>\n",
              "      <td>0.069092</td>\n",
              "      <td>0.008781</td>\n",
              "      <td>0.008781</td>\n",
              "      <td>0.008781</td>\n",
              "      <td>0.029770</td>\n",
              "      <td>0.033875</td>\n",
              "      <td>0.013016</td>\n",
              "      <td>-0.026459</td>\n",
              "      <td>-0.032135</td>\n",
              "      <td>-0.037781</td>\n",
              "      <td>-0.043427</td>\n",
              "      <td>-0.046448</td>\n",
              "      <td>-0.054932</td>\n",
              "      <td>0.000871</td>\n",
              "      <td>0.000774</td>\n",
              "      <td>0.000776</td>\n",
              "      <td>0.000777</td>\n",
              "      <td>0.000781</td>\n",
              "      <td>0.000782</td>\n",
              "      <td>0.000782</td>\n",
              "      <td>0.0</td>\n",
              "      <td>34</td>\n",
              "      <td>30</td>\n",
              "      <td>0.125526</td>\n",
              "    </tr>\n",
              "    <tr>\n",
              "      <th>424121</th>\n",
              "      <td>59</td>\n",
              "      <td>22164</td>\n",
              "      <td>0.0</td>\n",
              "      <td>0.0</td>\n",
              "      <td>0.0</td>\n",
              "      <td>2.0</td>\n",
              "      <td>1.0</td>\n",
              "      <td>2.0</td>\n",
              "      <td>0.0</td>\n",
              "      <td>0.0</td>\n",
              "      <td>1.0</td>\n",
              "      <td>0.0</td>\n",
              "      <td>0.0</td>\n",
              "      <td>0.0</td>\n",
              "      <td>11</td>\n",
              "      <td>2015</td>\n",
              "      <td>37</td>\n",
              "      <td>11</td>\n",
              "      <td>1</td>\n",
              "      <td>30</td>\n",
              "      <td>0.232056</td>\n",
              "      <td>0.345703</td>\n",
              "      <td>0.229736</td>\n",
              "      <td>0.186646</td>\n",
              "      <td>0.18103</td>\n",
              "      <td>0.147461</td>\n",
              "      <td>0.142212</td>\n",
              "      <td>0.139771</td>\n",
              "      <td>0.139893</td>\n",
              "      <td>0.14563</td>\n",
              "      <td>0.135986</td>\n",
              "      <td>0.145142</td>\n",
              "      <td>0.000000</td>\n",
              "      <td>0.000000</td>\n",
              "      <td>0.000000</td>\n",
              "      <td>5.914062</td>\n",
              "      <td>2.000000</td>\n",
              "      <td>0.586914</td>\n",
              "      <td>0.500000</td>\n",
              "      <td>0.152222</td>\n",
              "      <td>...</td>\n",
              "      <td>0.094910</td>\n",
              "      <td>0.078796</td>\n",
              "      <td>0.079834</td>\n",
              "      <td>0.063416</td>\n",
              "      <td>0.073486</td>\n",
              "      <td>0.120300</td>\n",
              "      <td>0.179443</td>\n",
              "      <td>0.132690</td>\n",
              "      <td>0.107422</td>\n",
              "      <td>0.118408</td>\n",
              "      <td>0.100220</td>\n",
              "      <td>0.074646</td>\n",
              "      <td>0.077393</td>\n",
              "      <td>0.070740</td>\n",
              "      <td>0.072510</td>\n",
              "      <td>0.071350</td>\n",
              "      <td>0.087708</td>\n",
              "      <td>0.010506</td>\n",
              "      <td>0.010506</td>\n",
              "      <td>0.010506</td>\n",
              "      <td>0.010506</td>\n",
              "      <td>0.024338</td>\n",
              "      <td>0.019058</td>\n",
              "      <td>0.003862</td>\n",
              "      <td>-0.005348</td>\n",
              "      <td>-0.006882</td>\n",
              "      <td>-0.034210</td>\n",
              "      <td>-0.075500</td>\n",
              "      <td>-0.099243</td>\n",
              "      <td>0.002201</td>\n",
              "      <td>0.002119</td>\n",
              "      <td>0.002134</td>\n",
              "      <td>0.002148</td>\n",
              "      <td>0.002184</td>\n",
              "      <td>0.002201</td>\n",
              "      <td>0.002241</td>\n",
              "      <td>0.0</td>\n",
              "      <td>34</td>\n",
              "      <td>30</td>\n",
              "      <td>0.166296</td>\n",
              "    </tr>\n",
              "    <tr>\n",
              "      <th>424122</th>\n",
              "      <td>59</td>\n",
              "      <td>22167</td>\n",
              "      <td>0.0</td>\n",
              "      <td>0.0</td>\n",
              "      <td>0.0</td>\n",
              "      <td>0.0</td>\n",
              "      <td>0.0</td>\n",
              "      <td>0.0</td>\n",
              "      <td>0.0</td>\n",
              "      <td>0.0</td>\n",
              "      <td>0.0</td>\n",
              "      <td>0.0</td>\n",
              "      <td>0.0</td>\n",
              "      <td>0.0</td>\n",
              "      <td>11</td>\n",
              "      <td>2015</td>\n",
              "      <td>49</td>\n",
              "      <td>12</td>\n",
              "      <td>39</td>\n",
              "      <td>30</td>\n",
              "      <td>0.232056</td>\n",
              "      <td>0.345703</td>\n",
              "      <td>0.229736</td>\n",
              "      <td>0.186646</td>\n",
              "      <td>0.18103</td>\n",
              "      <td>0.147461</td>\n",
              "      <td>0.142212</td>\n",
              "      <td>0.139771</td>\n",
              "      <td>0.139893</td>\n",
              "      <td>0.14563</td>\n",
              "      <td>0.135986</td>\n",
              "      <td>0.145142</td>\n",
              "      <td>1.000000</td>\n",
              "      <td>0.816406</td>\n",
              "      <td>0.673340</td>\n",
              "      <td>0.938965</td>\n",
              "      <td>0.816406</td>\n",
              "      <td>0.775391</td>\n",
              "      <td>0.632812</td>\n",
              "      <td>0.673340</td>\n",
              "      <td>...</td>\n",
              "      <td>0.125244</td>\n",
              "      <td>0.130615</td>\n",
              "      <td>0.148071</td>\n",
              "      <td>0.229980</td>\n",
              "      <td>0.389160</td>\n",
              "      <td>0.267090</td>\n",
              "      <td>0.275879</td>\n",
              "      <td>0.231689</td>\n",
              "      <td>0.255127</td>\n",
              "      <td>0.287598</td>\n",
              "      <td>0.276855</td>\n",
              "      <td>0.188354</td>\n",
              "      <td>0.245728</td>\n",
              "      <td>0.235107</td>\n",
              "      <td>0.200684</td>\n",
              "      <td>0.203857</td>\n",
              "      <td>0.224609</td>\n",
              "      <td>0.000537</td>\n",
              "      <td>0.000537</td>\n",
              "      <td>0.000537</td>\n",
              "      <td>0.000537</td>\n",
              "      <td>0.000537</td>\n",
              "      <td>0.000537</td>\n",
              "      <td>0.000537</td>\n",
              "      <td>0.000537</td>\n",
              "      <td>0.000537</td>\n",
              "      <td>0.000537</td>\n",
              "      <td>0.000537</td>\n",
              "      <td>0.000251</td>\n",
              "      <td>0.023727</td>\n",
              "      <td>0.023727</td>\n",
              "      <td>0.023727</td>\n",
              "      <td>0.023727</td>\n",
              "      <td>0.023727</td>\n",
              "      <td>0.023727</td>\n",
              "      <td>0.023727</td>\n",
              "      <td>0.0</td>\n",
              "      <td>34</td>\n",
              "      <td>30</td>\n",
              "      <td>0.196947</td>\n",
              "    </tr>\n",
              "  </tbody>\n",
              "</table>\n",
              "<p>424123 rows × 149 columns</p>\n",
              "</div>"
            ],
            "text/plain": [
              "        shop_id  item_id  ...  days  item_cnt_month\n",
              "0             0       30  ...    30        0.011463\n",
              "1             0       31  ...    30        0.035845\n",
              "2             0       32  ...    30        0.049720\n",
              "3             0       33  ...    30        0.031259\n",
              "4             0       35  ...    30        0.048870\n",
              "...         ...      ...  ...   ...             ...\n",
              "424118       59    22154  ...    30        0.108087\n",
              "424119       59    22155  ...    30        0.439006\n",
              "424120       59    22162  ...    30        0.125526\n",
              "424121       59    22164  ...    30        0.166296\n",
              "424122       59    22167  ...    30        0.196947\n",
              "\n",
              "[424123 rows x 149 columns]"
            ]
          },
          "metadata": {
            "tags": []
          },
          "execution_count": 60
        }
      ]
    },
    {
      "cell_type": "code",
      "metadata": {
        "colab": {
          "base_uri": "https://localhost:8080/"
        },
        "id": "YMWepFOM9mvx",
        "outputId": "832f0160-2df9-40f1-e157-fb984501d462"
      },
      "source": [
        "pre_test.item_cnt_month.sort_values()"
      ],
      "execution_count": null,
      "outputs": [
        {
          "output_type": "execute_result",
          "data": {
            "text/plain": [
              "232007    -0.221813\n",
              "141126    -0.221813\n",
              "4102      -0.218450\n",
              "804       -0.218450\n",
              "51248     -0.198430\n",
              "            ...    \n",
              "228118    18.736197\n",
              "230428    18.850275\n",
              "384774    19.098307\n",
              "384775    19.098307\n",
              "384776    19.098307\n",
              "Name: item_cnt_month, Length: 424123, dtype: float32"
            ]
          },
          "metadata": {
            "tags": []
          },
          "execution_count": 61
        }
      ]
    },
    {
      "cell_type": "code",
      "metadata": {
        "colab": {
          "base_uri": "https://localhost:8080/"
        },
        "id": "GObuZEyl4ovd",
        "outputId": "cde388a4-2b70-4d2d-ba2b-e9634dca4b27"
      },
      "source": [
        "test = pd.read_csv('/content/data/test.csv.zip')\n",
        "print(test.shape)\n",
        "test = test.merge(pre_test[['shop_id','item_id', 'item_cnt_month']], on=['shop_id', 'item_id'], how='left')\n",
        "print(test.shape)"
      ],
      "execution_count": null,
      "outputs": [
        {
          "output_type": "stream",
          "text": [
            "(214200, 3)\n",
            "(214200, 4)\n"
          ],
          "name": "stdout"
        }
      ]
    },
    {
      "cell_type": "code",
      "metadata": {
        "colab": {
          "base_uri": "https://localhost:8080/",
          "height": 419
        },
        "id": "tgrP9HUsE5U8",
        "outputId": "057a14ce-2a4d-40e1-f6bb-474e00cb6ec8"
      },
      "source": [
        "test"
      ],
      "execution_count": null,
      "outputs": [
        {
          "output_type": "execute_result",
          "data": {
            "text/html": [
              "<div>\n",
              "<style scoped>\n",
              "    .dataframe tbody tr th:only-of-type {\n",
              "        vertical-align: middle;\n",
              "    }\n",
              "\n",
              "    .dataframe tbody tr th {\n",
              "        vertical-align: top;\n",
              "    }\n",
              "\n",
              "    .dataframe thead th {\n",
              "        text-align: right;\n",
              "    }\n",
              "</style>\n",
              "<table border=\"1\" class=\"dataframe\">\n",
              "  <thead>\n",
              "    <tr style=\"text-align: right;\">\n",
              "      <th></th>\n",
              "      <th>ID</th>\n",
              "      <th>shop_id</th>\n",
              "      <th>item_id</th>\n",
              "      <th>item_cnt_month</th>\n",
              "    </tr>\n",
              "  </thead>\n",
              "  <tbody>\n",
              "    <tr>\n",
              "      <th>0</th>\n",
              "      <td>0</td>\n",
              "      <td>5</td>\n",
              "      <td>5037</td>\n",
              "      <td>0.564082</td>\n",
              "    </tr>\n",
              "    <tr>\n",
              "      <th>1</th>\n",
              "      <td>1</td>\n",
              "      <td>5</td>\n",
              "      <td>5320</td>\n",
              "      <td>NaN</td>\n",
              "    </tr>\n",
              "    <tr>\n",
              "      <th>2</th>\n",
              "      <td>2</td>\n",
              "      <td>5</td>\n",
              "      <td>5233</td>\n",
              "      <td>0.913160</td>\n",
              "    </tr>\n",
              "    <tr>\n",
              "      <th>3</th>\n",
              "      <td>3</td>\n",
              "      <td>5</td>\n",
              "      <td>5232</td>\n",
              "      <td>0.616075</td>\n",
              "    </tr>\n",
              "    <tr>\n",
              "      <th>4</th>\n",
              "      <td>4</td>\n",
              "      <td>5</td>\n",
              "      <td>5268</td>\n",
              "      <td>NaN</td>\n",
              "    </tr>\n",
              "    <tr>\n",
              "      <th>...</th>\n",
              "      <td>...</td>\n",
              "      <td>...</td>\n",
              "      <td>...</td>\n",
              "      <td>...</td>\n",
              "    </tr>\n",
              "    <tr>\n",
              "      <th>214195</th>\n",
              "      <td>214195</td>\n",
              "      <td>45</td>\n",
              "      <td>18454</td>\n",
              "      <td>0.050729</td>\n",
              "    </tr>\n",
              "    <tr>\n",
              "      <th>214196</th>\n",
              "      <td>214196</td>\n",
              "      <td>45</td>\n",
              "      <td>16188</td>\n",
              "      <td>NaN</td>\n",
              "    </tr>\n",
              "    <tr>\n",
              "      <th>214197</th>\n",
              "      <td>214197</td>\n",
              "      <td>45</td>\n",
              "      <td>15757</td>\n",
              "      <td>0.102495</td>\n",
              "    </tr>\n",
              "    <tr>\n",
              "      <th>214198</th>\n",
              "      <td>214198</td>\n",
              "      <td>45</td>\n",
              "      <td>19648</td>\n",
              "      <td>NaN</td>\n",
              "    </tr>\n",
              "    <tr>\n",
              "      <th>214199</th>\n",
              "      <td>214199</td>\n",
              "      <td>45</td>\n",
              "      <td>969</td>\n",
              "      <td>0.027666</td>\n",
              "    </tr>\n",
              "  </tbody>\n",
              "</table>\n",
              "<p>214200 rows × 4 columns</p>\n",
              "</div>"
            ],
            "text/plain": [
              "            ID  shop_id  item_id  item_cnt_month\n",
              "0            0        5     5037        0.564082\n",
              "1            1        5     5320             NaN\n",
              "2            2        5     5233        0.913160\n",
              "3            3        5     5232        0.616075\n",
              "4            4        5     5268             NaN\n",
              "...        ...      ...      ...             ...\n",
              "214195  214195       45    18454        0.050729\n",
              "214196  214196       45    16188             NaN\n",
              "214197  214197       45    15757        0.102495\n",
              "214198  214198       45    19648             NaN\n",
              "214199  214199       45      969        0.027666\n",
              "\n",
              "[214200 rows x 4 columns]"
            ]
          },
          "metadata": {
            "tags": []
          },
          "execution_count": 63
        }
      ]
    },
    {
      "cell_type": "markdown",
      "metadata": {
        "id": "oczIm8iNNv1d"
      },
      "source": [
        "About 48% of (item_id,shop_id) in our test set does not exist in the train set. So we manually set the prediction for these items to be zero."
      ]
    },
    {
      "cell_type": "code",
      "metadata": {
        "colab": {
          "base_uri": "https://localhost:8080/"
        },
        "id": "K6UTtJn-F7U0",
        "outputId": "13e89d88-e8fd-45ee-9c59-6de8cff5ad54"
      },
      "source": [
        "sum(test.item_cnt_month.isna())"
      ],
      "execution_count": null,
      "outputs": [
        {
          "output_type": "execute_result",
          "data": {
            "text/plain": [
              "102796"
            ]
          },
          "metadata": {
            "tags": []
          },
          "execution_count": 64
        }
      ]
    },
    {
      "cell_type": "code",
      "metadata": {
        "id": "BBFTfltaNUPq"
      },
      "source": [
        "test.fillna(0)[['ID', 'item_cnt_month']].to_csv('submition.csv', index=False)"
      ],
      "execution_count": null,
      "outputs": []
    },
    {
      "cell_type": "markdown",
      "metadata": {
        "id": "yAQCcivVOnOn"
      },
      "source": [
        "Finally, we submit the result to the Kaggle platform:"
      ]
    },
    {
      "cell_type": "code",
      "metadata": {
        "colab": {
          "base_uri": "https://localhost:8080/"
        },
        "id": "Cie1gQyiN3I2",
        "outputId": "28ebfba0-ae4b-44b5-c400-58718f25228b"
      },
      "source": [
        "!kaggle competitions submit -c competitive-data-science-predict-future-sales -f /content/submition.csv -m 'S1'"
      ],
      "execution_count": null,
      "outputs": [
        {
          "output_type": "stream",
          "text": [
            "Warning: Your Kaggle API key is readable by other users on this system! To fix this, you can run 'chmod 600 /root/.kaggle/kaggle.json'\n",
            "Warning: Looks like you're using an outdated API Version, please consider updating (server 1.5.12 / client 1.5.4)\n",
            "100% 2.87M/2.87M [00:02<00:00, 1.17MB/s]\n",
            "Successfully submitted to Predict Future Sales"
          ],
          "name": "stdout"
        }
      ]
    },
    {
      "cell_type": "markdown",
      "metadata": {
        "id": "M40ryvjpPH1t"
      },
      "source": [
        "If we would like to deploy the model for serving predictions, we need to create an Endpoint first and then deploy the model to this endpoint. Next, a prediction request is sent to the endpoint to recieve the prediction. As a guide, refer to a notebook [here](https://cloud.google.com/vertex-ai/docs/training/create-custom-job)"
      ]
    },
    {
      "cell_type": "markdown",
      "metadata": {
        "id": "SZLsZ5OBSgiN"
      },
      "source": [
        "### Create an `Endpoint`\n",
        "\n",
        "Use the helper function `create_endpoint` to create an `Endpoint` to deploy the `Model` to for serving predictions, with the following parameter:\n",
        "\n",
        "- `display_name`: A human readable name for the `Endpoint`.\n",
        "\n",
        "The helper function uses the endpoint client service's `create_endpoint` method, which takes the parameter:\n",
        "\n",
        "- `display_name`: A human readable name for the `Endpoint`.\n",
        "\n",
        "Creating an `Endpoint` returns a long-running operation, since it might take a few moments to provision the endpoint for serving. You will call `response.result()`, which is a synchronous call and will return when the `Endpoint` is ready. The helper function returns the AI Platform fully qualified identifier for the `Endpoint` in the `response.name` field.\n"
      ]
    },
    {
      "cell_type": "code",
      "metadata": {
        "id": "plo62y3rSgiN"
      },
      "source": [
        "ENDPOINT_NAME = \"cifar10_endpoint-\" + TIMESTAMP\n",
        "\n",
        "\n",
        "def create_endpoint(display_name):\n",
        "    endpoint = {\"display_name\": display_name}\n",
        "    response = clients[\"endpoint\"].create_endpoint(parent=PARENT, endpoint=endpoint)\n",
        "    print(\"Long running operation:\", response.operation.name)\n",
        "\n",
        "    result = response.result(timeout=300)\n",
        "    print(\"result\")\n",
        "    print(\" name:\", result.name)\n",
        "    print(\" display_name:\", result.display_name)\n",
        "    print(\" description:\", result.description)\n",
        "    print(\" labels:\", result.labels)\n",
        "    print(\" create_time:\", result.create_time)\n",
        "    print(\" update_time:\", result.update_time)\n",
        "    return result.name\n",
        "\n",
        "\n",
        "endpoint_name = create_endpoint(ENDPOINT_NAME)"
      ],
      "execution_count": null,
      "outputs": []
    },
    {
      "cell_type": "markdown",
      "metadata": {
        "id": "A6m66ItZSgiN"
      },
      "source": [
        "### Prediction scaling\n",
        "\n",
        "You have several choices on scaling the VMs for handling your online prediction requests:\n",
        "\n",
        "- Single Instance: The online prediction requests are processed on a single VM.\n",
        "  - Set the minimum (`MIN_NODES`) and maximum (`MAX_NODES`) number of compute instances to one. \n",
        "\n",
        "\n",
        "- Manual Scaling: The online prediction requests are split across a fixed number of VMs that you manually specified.\n",
        "  - Set the minimum (`MIN_NODES`) and maximum (`MAX_NODES`) number of VMs to the same number of nodes. When a `Model` is first deployed to `Endpoint`, the fixed number of compute instances are provisioned and online prediction requests are evenly distributed across them.\n",
        "  \n",
        "\n",
        "- Auto Scaling: The online prediction requests are streamed across an initial number of VMs. Based on time and compute tradeoffs, AI Platform might automatically scale your `DeployedModel` to provision and deprovision compute instances.\n",
        "  - Set the minimum (`MIN_NODES`) to the initial number of VMs and the maximum (`MAX_NODES`) to the maximum number of VMs that you want the service to scale to.\n",
        "  \n",
        "The minimum number of VMs corresponds to the field `min_replica_count` and the maximum number of VMs corresponds to the field `max_replica_count`."
      ]
    },
    {
      "cell_type": "code",
      "metadata": {
        "id": "PyMkIvEMSgiN"
      },
      "source": [
        "MIN_NODES = 1\n",
        "MAX_NODES = 1"
      ],
      "execution_count": null,
      "outputs": []
    },
    {
      "cell_type": "markdown",
      "metadata": {
        "id": "pEL3X1uUSgiN"
      },
      "source": [
        "### Deploy model to the endpoint\n",
        "\n",
        "Use the helper function `deploy_model` to deploy the `Model` to the `Endpoint` you created for serving predictions, with the following parameters:\n",
        "\n",
        "- `model`: The AI Platform fully qualified identifier of the `Model` to deploy.\n",
        "- `deployed_model_display_name`: A human readable name for the `DeployedModel`.\n",
        "- `endpoint`: The AI Platform fully qualified `Endpoint` identifier to deploy the `Model` to.\n",
        "\n",
        "The helper function calls the endpoint client service's `deploy_model` method, which takes the following parameters:\n",
        "\n",
        "- `endpoint`: The AI Platform fully qualified `Endpoint` identifier to deploy the `Model` to.\n",
        "- `deployed_model`: The requirements for deploying the `Model`.\n",
        "- `traffic_split`: Percent of the `Endpoint`'s traffic that you want to go to this `DeployedModel`. This is specified as a dictionary of one or more key/value pairs.\n",
        "   - If only one model, then specify as **{ \"0\": 100 }**, where \"0\" refers to the new `DeployedModel` and 100 means 100% of the traffic.\n",
        "   - If there are existing models on the endpoint, for which the traffic will be split, then specify as follows, where `model_id` is the model id of an existing model to the deployed endpoint. The percents must add up to 100.\n",
        "   \n",
        "           { \"0\": percent, model_id: percent, ... }\n",
        "\n",
        "The `deployed_model` parameter is specified as a Python dictionary with the minimum required fields:\n",
        "\n",
        "- `model`: The AI Platform fully qualified identifier of the `Model` to deploy.\n",
        "- `display_name`: A human readable name for the `DeployedModel`.\n",
        "- `dedicated_resources`: This refers to how many VMs (replicas) are scaled for serving prediction requests.  \n",
        "  - `machine_spec`: The compute resources to provision for each VM. Use the variable you set earlier: `DEPLOY_GPU != None` to use a GPU; otherwise only a CPU is allocated.  \n",
        "  - `min_replica_count`: The number of VMs to initially provision, which you set earlier as the variable `MIN_NODES`.\n",
        "  - `max_replica_count`: The maximum number of VMs to scale to, which you set earlier as the variable `MAX_NODES`.\n",
        "- `enable_container_logging`: This enables logging of container events, such as execution failures. The default is False. This is typically set to True when debugging the deployment and then set to False when deployed for production.\n",
        "\n",
        "\n",
        "Configuring the `traffic_split` to split traffic between multiple `DeployedModel` resources might be helpful in a situation like the following: Perhaps you already have a previous version of your model deployed in production as a `DeployedModel` called `v1`. You got better model evaluation on a new model, which you will deploy as `v2`, but you don't know for certain that it is really better until you deploy to production. So in the case of traffic split, you might want to deploy `v2` to the same `Endpoint` as `v1` but only allocate it 10% of the traffic. That way, you can monitor how well it does without disrupting the majority of users -- until you make a final decision."
      ]
    },
    {
      "cell_type": "code",
      "metadata": {
        "id": "so-Oum3mSgiN"
      },
      "source": [
        "DEPLOYED_NAME = \"cifar10_deployed-\" + TIMESTAMP\n",
        "\n",
        "\n",
        "def deploy_model(\n",
        "    model, deployed_model_display_name, endpoint, traffic_split={\"0\": 100}\n",
        "):\n",
        "\n",
        "    if DEPLOY_GPU:\n",
        "        machine_spec = {\n",
        "            \"machine_type\": DEPLOY_COMPUTE,\n",
        "            \"accelerator_type\": DEPLOY_GPU,\n",
        "            \"accelerator_count\": DEPLOY_NGPU,\n",
        "        }\n",
        "    else:\n",
        "        machine_spec = {\n",
        "            \"machine_type\": DEPLOY_COMPUTE,\n",
        "            \"accelerator_count\": 0,\n",
        "        }\n",
        "\n",
        "    deployed_model = {\n",
        "        \"model\": model,\n",
        "        \"display_name\": deployed_model_display_name,\n",
        "        \"dedicated_resources\": {\n",
        "            \"min_replica_count\": MIN_NODES,\n",
        "            \"max_replica_count\": MAX_NODES,\n",
        "            \"machine_spec\": machine_spec,\n",
        "        },\n",
        "    }\n",
        "\n",
        "    response = clients[\"endpoint\"].deploy_model(\n",
        "        endpoint=endpoint, deployed_model=deployed_model, traffic_split=traffic_split\n",
        "    )\n",
        "\n",
        "    print(\"Long running operation:\", response.operation.name)\n",
        "    result = response.result()\n",
        "    print(\"result\")\n",
        "    deployed_model = result.deployed_model\n",
        "    print(\" deployed_model\")\n",
        "    print(\"  id:\", deployed_model.id)\n",
        "    print(\"  model:\", deployed_model.model)\n",
        "    print(\"  display_name:\", deployed_model.display_name)\n",
        "    print(\"  create_time:\", deployed_model.create_time)\n",
        "\n",
        "    return deployed_model.id\n",
        "\n",
        "\n",
        "deployed_model_id = deploy_model(model_to_deploy_name, DEPLOYED_NAME, endpoint_name)"
      ],
      "execution_count": null,
      "outputs": []
    },
    {
      "cell_type": "markdown",
      "metadata": {
        "id": "ScGBig3CSgiO"
      },
      "source": [
        "### List all endpoints\n",
        "\n",
        "Get a list of all your `Endpoint` resources. Use the helper function `list_endpoints`. \n",
        "\n",
        "The helper function calls the endpoint client service's `list_endpoints` method. The returned response object is a list, with an element for each `Endpoint`. The helper function prints a few example fields for each `Endpoint`:\n",
        "\n",
        "- `name`: The AI Platform identifier for the `Endpoint`.\n",
        "- `display_name`: The human readable name you assigned to the `Endpoint`.\n",
        "- `create_time`: When the `Endpoint` was created.\n",
        "- `deployed_models`: The `DeployedModel`s and associated information that are deployed to this `Endpoint`."
      ]
    },
    {
      "cell_type": "code",
      "metadata": {
        "id": "zxlYv6wrSgiO"
      },
      "source": [
        "def list_endpoints():\n",
        "    response = clients[\"endpoint\"].list_endpoints(parent=PARENT)\n",
        "    for endpoint in response:\n",
        "        print(\"name:\", endpoint.name)\n",
        "        print(\"display name:\", endpoint.display_name)\n",
        "        print(\"create_time:\", endpoint.create_time)\n",
        "        print(\"deployed_models\", endpoint.deployed_models)\n",
        "        print(\"\\n\")\n",
        "\n",
        "\n",
        "list_endpoints()"
      ],
      "execution_count": null,
      "outputs": []
    },
    {
      "cell_type": "markdown",
      "metadata": {
        "id": "lhJmhTkXSgiO"
      },
      "source": [
        "### Get information on this endpoint\n",
        "\n",
        "Get informationfor just your endpoint. Use the helper function `get_endpoint`, with the following parameter:\n",
        "\n",
        "- `name`: The AI Platform unique identifier for the `Endpoint`.\n",
        "\n",
        "This helper function calls the endpoint client service's `get_endpoint` method, with the following parameter:\n",
        "\n",
        "- `name`: The AI Platform unique identifier for the managed `Endpoint`."
      ]
    },
    {
      "cell_type": "code",
      "metadata": {
        "id": "YwACLR_2SgiO"
      },
      "source": [
        "def get_endpoint(name):\n",
        "    response = clients[\"endpoint\"].get_endpoint(name=name)\n",
        "    print(response)\n",
        "\n",
        "\n",
        "get_endpoint(endpoint_name)"
      ],
      "execution_count": null,
      "outputs": []
    },
    {
      "cell_type": "markdown",
      "metadata": {
        "id": "4aSKeYHgSgiO"
      },
      "source": [
        "## Make a prediction request\n",
        "\n",
        "Let's now get a prediction from the `Endpoint`. You will use an arbitrary image out of the test (holdout) portion of the dataset as a test image. "
      ]
    },
    {
      "cell_type": "code",
      "metadata": {
        "id": "tNeQLjsESgiO"
      },
      "source": [
        "test_image = x_test[0]\n",
        "test_label = y_test[0]\n",
        "print(test_image.shape)"
      ],
      "execution_count": null,
      "outputs": []
    },
    {
      "cell_type": "markdown",
      "metadata": {
        "id": "KtAPMMdISgiO"
      },
      "source": [
        "### Prepare the request content\n",
        "You are going to send the CIFAR10 image as compressed JPG image, instead of the raw uncompressed bytes:\n",
        "\n",
        "- `cv2.imwrite`: Use openCV to write the uncompressed image to disk as a compressed JPEG image.\n",
        "- `tf.io.read_file`: Read the compressed JPG images back into memory as raw bytes.\n",
        "- `base64.b64encode`: Encode the raw bytes into a base64-encoded string."
      ]
    },
    {
      "cell_type": "code",
      "metadata": {
        "id": "9S7cBilXSgiP"
      },
      "source": [
        "import base64\n",
        "\n",
        "from PIL import Image\n",
        "\n",
        "image = Image.fromarray((test_image * 255).astype(np.uint8))\n",
        "image.save(\"tmp.jpg\")\n",
        "\n",
        "bytes = tf.io.read_file(\"tmp.jpg\")\n",
        "b64str = base64.b64encode(bytes.numpy()).decode(\"utf-8\")"
      ],
      "execution_count": null,
      "outputs": []
    },
    {
      "cell_type": "markdown",
      "metadata": {
        "id": "2e7L50KISgiP"
      },
      "source": [
        "### Send the prediction request\n",
        "\n",
        "To send a prediction request, use the helper function `predict_image`, which takes the following parameters:\n",
        "\n",
        "- `image`: The test image data as a numpy array.\n",
        "- `endpoint`: The AI Platform fully qualified identifier for the `Endpoint`.\n",
        "- `parameters_dict`: Additional parameters for serving -- in this case, None.\n",
        "\n",
        "This function calls the prediction client service's `predict` method with the following parameters:\n",
        "\n",
        "- `endpoint`: The AI Platform fully qualified identifier for the `Endpoint`.\n",
        "- `instances`: A list of instances (encoded images) to predict.\n",
        "- `parameters`: Additional parameters for serving -- in this case, None.\n",
        "\n",
        "To pass the image data to the prediction service, in the previous step you encoded the bytes into base 64 -- which makes the content safe from modification when transmitting binary data over the network. You need to tell the pre-built container that the content has been base64-encoded, so it will decode the on the other end before passing it to your TensorFlow graph. \n",
        "\n",
        "Each instance in the prediction request is a dictionary with the following form:\n",
        "\n",
        "                        {input_name: {'b64': content}}\n",
        "                        \n",
        "- `input_name`: the name of the input layer of the underlying model.\n",
        "- `'b64'`: A key that indicates the content is base64-encoded.\n",
        "- `content`: The compressed JPEG image bytes as a base64-encoded string.\n",
        "\n",
        "Since the `predict()` service can take multiple images (instances), you will send your single image as a list of one image. As a final step, you package the instances list into Google's protobuf format; this is what you pass to the `predict()` service.\n",
        "\n",
        "The `response` object returns a list, where each element in the list corresponds to the corresponding image in the request. You will see in the output for each prediction:\n",
        "\n",
        "- Confidence level for the prediction (`predictions`), between 0 and 1, for each of the ten classes."
      ]
    },
    {
      "cell_type": "code",
      "metadata": {
        "id": "N10ce0BZSgiP"
      },
      "source": [
        "def predict_image(image, endpoint, parameters_dict):\n",
        "    # The format of each instance should conform to the deployed model's prediction input schema.\n",
        "    instances_list = [{input_name: {\"b64\": image}}]\n",
        "    instances = [json_format.ParseDict(s, Value()) for s in instances_list]\n",
        "\n",
        "    response = clients[\"prediction\"].predict(\n",
        "        endpoint=endpoint, instances=instances, parameters=parameters_dict\n",
        "    )\n",
        "    print(\"response\")\n",
        "    print(\" deployed_model_id:\", response.deployed_model_id)\n",
        "    predictions = response.predictions\n",
        "    print(\"predictions\")\n",
        "    for prediction in predictions:\n",
        "        # See gs://google-cloud-aiplatform/schema/predict/prediction/classification.yaml for the format of the predictions.\n",
        "        print(\" prediction:\", prediction)\n",
        "\n",
        "\n",
        "predict_image(b64str, endpoint_name, None)"
      ],
      "execution_count": null,
      "outputs": []
    },
    {
      "cell_type": "markdown",
      "metadata": {
        "id": "Q4qZv6TvSgiP"
      },
      "source": [
        "## Undeploy the model\n",
        "\n",
        "Undeploy your `DeployedModel` from the serving `Endpoint`. Use the helper function `undeploy_model`, which takes the following parameters:\n",
        "\n",
        "- `deployed_model_id`: The `DeployedModel` identifier returned by the `Endpoint` service when you deployed the `Model` as a `DeployedModel`.\n",
        "- `endpoint`: The AI Platform fully qualified identifier for the `Endpoint` where the `DeployedModel` is deployed.\n",
        "\n",
        "This function calls the endpoint client service's `undeploy_model` method, with the following parameters:\n",
        "\n",
        "- `deployed_model_id`: The `DeployedModel` identifier returned by the `Endpoint` service when you dep\n",
        "- `endpoint`: The AI Platform fully qualified identifier for the `Endpoint` where the `DeployedModel` is deployed.\n",
        "- `traffic_split`: How to split traffic among the remaining `DeployedModel`s on the `Endpoint`.\n",
        "\n",
        "Since this is the only `DeployedModel` on the `Endpoint`, you can leave `traffic_split` empty by setting it to {}."
      ]
    },
    {
      "cell_type": "code",
      "metadata": {
        "id": "gcTR9_JUSgiP"
      },
      "source": [
        "def undeploy_model(deployed_model_id, endpoint):\n",
        "    response = clients[\"endpoint\"].undeploy_model(\n",
        "        endpoint=endpoint, deployed_model_id=deployed_model_id, traffic_split={}\n",
        "    )\n",
        "    print(response)\n",
        "\n",
        "\n",
        "undeploy_model(deployed_model_id, endpoint_name)"
      ],
      "execution_count": null,
      "outputs": []
    },
    {
      "cell_type": "markdown",
      "metadata": {
        "id": "TpV-iwP9qw9c"
      },
      "source": [
        "# Cleaning up\n",
        "\n",
        "To clean up all Google Cloud resources used in this project, you can [delete the\n",
        "project](https://cloud.google.com/resource-manager/docs/creating-managing-projects#shutting_down_projects) you used for the tutorial.\n",
        "\n",
        "Otherwise, you can delete the individual resources you created in this tutorial:\n",
        "\n",
        "- Dataset\n",
        "- Model\n",
        "- Endpoint\n",
        "- Cloud Storage Bucket"
      ]
    },
    {
      "cell_type": "code",
      "metadata": {
        "id": "sx_vKniMq9ZX"
      },
      "source": [
        "delete_dataset = True\n",
        "delete_model = True\n",
        "delete_endpoint = True\n",
        "delete_bucket = True\n",
        "\n",
        "# Delete the dataset using the AI Platform (Unified) fully qualified identifier for the dataset\n",
        "try:\n",
        "    if delete_dataset:\n",
        "        clients[\"dataset\"].delete_dataset(name=dataset[\"name\"])\n",
        "except Exception as e:\n",
        "    print(e)\n",
        "\n",
        "# Delete the model using the AI Platform (Unified) fully qualified identifier for the model\n",
        "try:\n",
        "    if delete_model:\n",
        "        clients[\"model\"].delete_model(name=model_to_deploy_name)\n",
        "except Exception as e:\n",
        "    print(e)\n",
        "\n",
        "# Delete the endpoint using the AI Platform (Unified) fully qualified identifier for the endpoint\n",
        "try:\n",
        "    if delete_endpoint:\n",
        "        clients[\"endpoint\"].delete_endpoint(name=endpoint_name)\n",
        "except Exception as e:\n",
        "    print(e)\n",
        "\n",
        "if delete_bucket and \"BUCKET_NAME\" in globals():\n",
        "    ! gsutil rm -r gs://$BUCKET_NAME\n",
        "\n",
        "# Collect any unclaimed memory\n",
        "import gc\n",
        "\n",
        "gc.collect()"
      ],
      "execution_count": null,
      "outputs": []
    },
    {
      "cell_type": "code",
      "metadata": {
        "id": "yeKXSercjeYQ"
      },
      "source": [
        ""
      ],
      "execution_count": null,
      "outputs": []
    },
    {
      "cell_type": "code",
      "metadata": {
        "id": "6XwcKt_ljedL"
      },
      "source": [
        "# def prep_dataset(data, lags, lag_name, with_label=True):\n",
        "#     '''Creates lags of given names and a series of rows of data, each aiming \n",
        "#     to target a label, which is item count in a month.'''\n",
        "#     lag_length = max(lags)\n",
        "#     columns = []\n",
        "#     # Column names\n",
        "#     lag_title = ['{}_{}'.format(lag_name, i+1) for i in range(lag_length)]\n",
        "#     columns.extend(['shop_id', 'item_id'])\n",
        "#     columns.extend(lag_title)\n",
        "#     columns.extend(['month_of_pred', 'year_of_pred'])\n",
        "#     if with_label: columns.extend(['label'])\n",
        "#     prep_data = pd.DataFrame()\n",
        "#     length = data.shape[0]\n",
        "#     n = length - lag_length\n",
        "#     for i in range(0,n):\n",
        "#         df1 = pd.DataFrame(data.T.reset_index()[['shop_id', 'item_id']].values, columns=['shop_id', 'item_id'])\n",
        "#         # Lag features are attached to (item_id, shop_id) pairs \n",
        "#         df1 = pd.concat([df1, pd.DataFrame(data[length-1-i-lag_length: length-1-i].T.values, dtype='float16')], axis=1, ignore_index=True)\n",
        "#         # Create month and year of the label being predicted - attach it to df1\n",
        "#         df2 = pd.DataFrame({\n",
        "#                             'month_of_pred': [data[length-i-1: length-i].index.values[0]%12+1]*df1.shape[0],\n",
        "#                             'year_of_pred': [yer(data[length-i-1: length-i].index.values[0])]*df1.shape[0]\n",
        "#                             }, dtype='int16')\n",
        "#         # Add label only for item_cnt records\n",
        "#         if with_label:\n",
        "#             df3 = pd.DataFrame({'label':data[length-i-1: length-i].T.values.reshape(-1)},dtype='float16')\n",
        "#             prep_data = prep_data.append(pd.concat([df1, df2, df3], axis=1, ignore_index=True))\n",
        "#         else: \n",
        "#             prep_data = prep_data.append(pd.concat([df1, df2], axis=1, ignore_index=True))\n",
        "        \n",
        "#     prep_data.columns = columns\n",
        "#     drop = ['{}_{}'.format(lag_name, i) for i in lags]\n",
        "#     prep_data.drop(drop, axis=1, inplace=True)\n",
        "#     return prep_data"
      ],
      "execution_count": null,
      "outputs": []
    }
  ]
}